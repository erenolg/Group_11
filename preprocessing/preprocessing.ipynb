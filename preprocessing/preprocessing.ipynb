{
 "cells": [
  {
   "cell_type": "code",
   "execution_count": 1,
   "id": "1ef9eaf3",
   "metadata": {},
   "outputs": [],
   "source": [
    "import pandas as pd\n",
    "import numpy as np\n",
    "import matplotlib.pyplot as plt\n",
    "np.random.seed(11)\n",
    "import nltk\n",
    "from nltk.corpus import stopwords\n",
    "from nltk.tokenize import word_tokenize\n",
    "from nltk.stem import PorterStemmer, WordNetLemmatizer\n",
    "\n",
    "from sklearn.preprocessing import MinMaxScaler, OrdinalEncoder\n",
    "from sklearn.model_selection import train_test_split\n",
    "\"\"\"\n",
    "nltk.download(\"stopwords\")\n",
    "nltk.download(\"punkt\")\n",
    "nltk.download(\"wordnet\")\n",
    "\"\"\"\n",
    "import torch\n",
    "import torch.nn as nn\n",
    "import torch.optim as optim\n",
    "from torch.utils.data import DataLoader, TensorDataset\n",
    "\n",
    "import seaborn\n",
    "seaborn.set()"
   ]
  },
  {
   "cell_type": "markdown",
   "id": "bf5b378d-b237-4333-9cf3-5a3b7ff63827",
   "metadata": {},
   "source": [
    "## Clean and Merge Datasets (Eren)"
   ]
  },
  {
   "cell_type": "code",
   "execution_count": 2,
   "id": "11abe064",
   "metadata": {},
   "outputs": [],
   "source": [
    "# Enter data paths for raw_text version and parsed_text version\n",
    "data_raw = \"./data/reviews_raw.json\"\n",
    "data_parsed = \"./data/reviews_parsed.json\"\n",
    "\n",
    "data_with_raw = pd.read_json(data_raw, lines=True)\n",
    "data_with_parsed = pd.read_json(data_parsed, lines=True)"
   ]
  },
  {
   "cell_type": "code",
   "execution_count": 3,
   "id": "75bc57f8",
   "metadata": {},
   "outputs": [],
   "source": [
    "new_df = pd.merge(data_with_parsed, data_with_raw, on=[\"review_id\"])"
   ]
  },
  {
   "cell_type": "code",
   "execution_count": 4,
   "id": "9048117a",
   "metadata": {},
   "outputs": [],
   "source": [
    "new_df = new_df.rename(columns={\"rating_x\": \"rating\", \"user_id_x\": \"user_id\", \"rating_x\": \"rating\",\n",
    "                       \"book_id_x\": \"book_id\",})\n",
    "selected_cols = [\"user_id\", \"book_id\", \"review_sentences\", \"rating\", \n",
    "                 \"timestamp\", \"n_votes\", \"n_comments\", \"has_spoiler\"]\n",
    "new_df = new_df[selected_cols]"
   ]
  },
  {
   "cell_type": "code",
   "execution_count": 5,
   "id": "8fd8e0af",
   "metadata": {},
   "outputs": [
    {
     "data": {
      "text/html": [
       "<div>\n",
       "<style scoped>\n",
       "    .dataframe tbody tr th:only-of-type {\n",
       "        vertical-align: middle;\n",
       "    }\n",
       "\n",
       "    .dataframe tbody tr th {\n",
       "        vertical-align: top;\n",
       "    }\n",
       "\n",
       "    .dataframe thead th {\n",
       "        text-align: right;\n",
       "    }\n",
       "</style>\n",
       "<table border=\"1\" class=\"dataframe\">\n",
       "  <thead>\n",
       "    <tr style=\"text-align: right;\">\n",
       "      <th></th>\n",
       "      <th>user_id</th>\n",
       "      <th>book_id</th>\n",
       "      <th>review_sentences</th>\n",
       "      <th>rating</th>\n",
       "      <th>timestamp</th>\n",
       "      <th>n_votes</th>\n",
       "      <th>n_comments</th>\n",
       "      <th>has_spoiler</th>\n",
       "    </tr>\n",
       "  </thead>\n",
       "  <tbody>\n",
       "    <tr>\n",
       "      <th>0</th>\n",
       "      <td>8842281e1d1347389f2ab93d60773d4d</td>\n",
       "      <td>18245960</td>\n",
       "      <td>[[0, This is a special book.], [0, It started ...</td>\n",
       "      <td>5</td>\n",
       "      <td>2017-08-30</td>\n",
       "      <td>28</td>\n",
       "      <td>1</td>\n",
       "      <td>True</td>\n",
       "    </tr>\n",
       "    <tr>\n",
       "      <th>1</th>\n",
       "      <td>8842281e1d1347389f2ab93d60773d4d</td>\n",
       "      <td>16981</td>\n",
       "      <td>[[0, Recommended by Don Katz.], [0, Avail for ...</td>\n",
       "      <td>3</td>\n",
       "      <td>2017-03-22</td>\n",
       "      <td>1</td>\n",
       "      <td>0</td>\n",
       "      <td>False</td>\n",
       "    </tr>\n",
       "    <tr>\n",
       "      <th>2</th>\n",
       "      <td>8842281e1d1347389f2ab93d60773d4d</td>\n",
       "      <td>28684704</td>\n",
       "      <td>[[0, A fun, fast paced science fiction thrille...</td>\n",
       "      <td>3</td>\n",
       "      <td>2017-03-20</td>\n",
       "      <td>22</td>\n",
       "      <td>0</td>\n",
       "      <td>True</td>\n",
       "    </tr>\n",
       "    <tr>\n",
       "      <th>3</th>\n",
       "      <td>8842281e1d1347389f2ab93d60773d4d</td>\n",
       "      <td>27161156</td>\n",
       "      <td>[[0, Recommended reading to understand what is...</td>\n",
       "      <td>0</td>\n",
       "      <td>2016-11-09</td>\n",
       "      <td>5</td>\n",
       "      <td>1</td>\n",
       "      <td>False</td>\n",
       "    </tr>\n",
       "    <tr>\n",
       "      <th>4</th>\n",
       "      <td>8842281e1d1347389f2ab93d60773d4d</td>\n",
       "      <td>25884323</td>\n",
       "      <td>[[0, I really enjoyed this book, and there is ...</td>\n",
       "      <td>4</td>\n",
       "      <td>2016-04-25</td>\n",
       "      <td>9</td>\n",
       "      <td>1</td>\n",
       "      <td>True</td>\n",
       "    </tr>\n",
       "  </tbody>\n",
       "</table>\n",
       "</div>"
      ],
      "text/plain": [
       "                            user_id   book_id  \\\n",
       "0  8842281e1d1347389f2ab93d60773d4d  18245960   \n",
       "1  8842281e1d1347389f2ab93d60773d4d     16981   \n",
       "2  8842281e1d1347389f2ab93d60773d4d  28684704   \n",
       "3  8842281e1d1347389f2ab93d60773d4d  27161156   \n",
       "4  8842281e1d1347389f2ab93d60773d4d  25884323   \n",
       "\n",
       "                                    review_sentences  rating  timestamp  \\\n",
       "0  [[0, This is a special book.], [0, It started ...       5 2017-08-30   \n",
       "1  [[0, Recommended by Don Katz.], [0, Avail for ...       3 2017-03-22   \n",
       "2  [[0, A fun, fast paced science fiction thrille...       3 2017-03-20   \n",
       "3  [[0, Recommended reading to understand what is...       0 2016-11-09   \n",
       "4  [[0, I really enjoyed this book, and there is ...       4 2016-04-25   \n",
       "\n",
       "   n_votes  n_comments  has_spoiler  \n",
       "0       28           1         True  \n",
       "1        1           0        False  \n",
       "2       22           0         True  \n",
       "3        5           1        False  \n",
       "4        9           1         True  "
      ]
     },
     "execution_count": 5,
     "metadata": {},
     "output_type": "execute_result"
    }
   ],
   "source": [
    "new_df.head()"
   ]
  },
  {
   "cell_type": "code",
   "execution_count": 6,
   "id": "fa4b8b3f",
   "metadata": {
    "scrolled": true
   },
   "outputs": [
    {
     "data": {
      "text/plain": [
       "(1378033, 8)"
      ]
     },
     "execution_count": 6,
     "metadata": {},
     "output_type": "execute_result"
    }
   ],
   "source": [
    "new_df.shape"
   ]
  },
  {
   "cell_type": "code",
   "execution_count": 7,
   "id": "b42dc85a",
   "metadata": {
    "scrolled": true
   },
   "outputs": [
    {
     "name": "stdout",
     "output_type": "stream",
     "text": [
      "number of unique books at the beginning: 25475\n",
      "number of unique books at the end: 15000\n",
      "Shape at the end: (662210, 8)\n"
     ]
    }
   ],
   "source": [
    "# Dataset reduction\n",
    "\n",
    "print(f\"number of unique books at the beginning: {new_df.book_id.nunique()}\")\n",
    "\n",
    "select_number = 15000\n",
    "chosen_books = new_df.groupby(\"book_id\")[\"has_spoiler\"].mean().sort_values(ascending=False).keys()[:select_number].tolist()\n",
    "reduced_df = new_df[new_df.book_id.isin(chosen_books)]\n",
    "\n",
    "print(f\"number of unique books at the end: {reduced_df.book_id.nunique()}\")\n",
    "\n",
    "print(f\"Shape at the end: {reduced_df.shape}\")"
   ]
  },
  {
   "cell_type": "code",
   "execution_count": 8,
   "id": "5a5dad21",
   "metadata": {
    "scrolled": false
   },
   "outputs": [
    {
     "name": "stdout",
     "output_type": "stream",
     "text": [
      "ratio of non-spoiler labels: 0.9018876187312181%\n"
     ]
    }
   ],
   "source": [
    "print(f\"ratio of non-spoiler labels: {reduced_df.has_spoiler.value_counts()[0] / len(reduced_df)}%\")"
   ]
  },
  {
   "cell_type": "code",
   "execution_count": 9,
   "id": "7b4e15ec",
   "metadata": {},
   "outputs": [],
   "source": [
    "reduced_df = reduced_df.reset_index(drop=True)\n",
    "reduced_df.to_json(\"./data/reduced.json\")"
   ]
  },
  {
   "cell_type": "code",
   "execution_count": 10,
   "id": "5c8ba03e",
   "metadata": {
    "scrolled": true
   },
   "outputs": [
    {
     "data": {
      "text/html": [
       "<div>\n",
       "<style scoped>\n",
       "    .dataframe tbody tr th:only-of-type {\n",
       "        vertical-align: middle;\n",
       "    }\n",
       "\n",
       "    .dataframe tbody tr th {\n",
       "        vertical-align: top;\n",
       "    }\n",
       "\n",
       "    .dataframe thead th {\n",
       "        text-align: right;\n",
       "    }\n",
       "</style>\n",
       "<table border=\"1\" class=\"dataframe\">\n",
       "  <thead>\n",
       "    <tr style=\"text-align: right;\">\n",
       "      <th></th>\n",
       "      <th>user_id</th>\n",
       "      <th>book_id</th>\n",
       "      <th>review_sentences</th>\n",
       "      <th>rating</th>\n",
       "      <th>timestamp</th>\n",
       "      <th>n_votes</th>\n",
       "      <th>n_comments</th>\n",
       "      <th>has_spoiler</th>\n",
       "    </tr>\n",
       "  </thead>\n",
       "  <tbody>\n",
       "    <tr>\n",
       "      <th>0</th>\n",
       "      <td>8842281e1d1347389f2ab93d60773d4d</td>\n",
       "      <td>18245960</td>\n",
       "      <td>[[0, This is a special book.], [0, It started ...</td>\n",
       "      <td>5</td>\n",
       "      <td>2017-08-30</td>\n",
       "      <td>28</td>\n",
       "      <td>1</td>\n",
       "      <td>True</td>\n",
       "    </tr>\n",
       "    <tr>\n",
       "      <th>1</th>\n",
       "      <td>8842281e1d1347389f2ab93d60773d4d</td>\n",
       "      <td>28684704</td>\n",
       "      <td>[[0, A fun, fast paced science fiction thrille...</td>\n",
       "      <td>3</td>\n",
       "      <td>2017-03-20</td>\n",
       "      <td>22</td>\n",
       "      <td>0</td>\n",
       "      <td>True</td>\n",
       "    </tr>\n",
       "    <tr>\n",
       "      <th>2</th>\n",
       "      <td>8842281e1d1347389f2ab93d60773d4d</td>\n",
       "      <td>25884323</td>\n",
       "      <td>[[0, I really enjoyed this book, and there is ...</td>\n",
       "      <td>4</td>\n",
       "      <td>2016-04-25</td>\n",
       "      <td>9</td>\n",
       "      <td>1</td>\n",
       "      <td>True</td>\n",
       "    </tr>\n",
       "    <tr>\n",
       "      <th>3</th>\n",
       "      <td>8842281e1d1347389f2ab93d60773d4d</td>\n",
       "      <td>19398490</td>\n",
       "      <td>[[0, A beautiful story.], [0, It is rare to en...</td>\n",
       "      <td>4</td>\n",
       "      <td>2016-09-20</td>\n",
       "      <td>35</td>\n",
       "      <td>5</td>\n",
       "      <td>False</td>\n",
       "    </tr>\n",
       "    <tr>\n",
       "      <th>4</th>\n",
       "      <td>8842281e1d1347389f2ab93d60773d4d</td>\n",
       "      <td>22816087</td>\n",
       "      <td>[[0, I love Stephenson - and this was another ...</td>\n",
       "      <td>5</td>\n",
       "      <td>2016-12-14</td>\n",
       "      <td>40</td>\n",
       "      <td>6</td>\n",
       "      <td>False</td>\n",
       "    </tr>\n",
       "  </tbody>\n",
       "</table>\n",
       "</div>"
      ],
      "text/plain": [
       "                            user_id   book_id  \\\n",
       "0  8842281e1d1347389f2ab93d60773d4d  18245960   \n",
       "1  8842281e1d1347389f2ab93d60773d4d  28684704   \n",
       "2  8842281e1d1347389f2ab93d60773d4d  25884323   \n",
       "3  8842281e1d1347389f2ab93d60773d4d  19398490   \n",
       "4  8842281e1d1347389f2ab93d60773d4d  22816087   \n",
       "\n",
       "                                    review_sentences  rating  timestamp  \\\n",
       "0  [[0, This is a special book.], [0, It started ...       5 2017-08-30   \n",
       "1  [[0, A fun, fast paced science fiction thrille...       3 2017-03-20   \n",
       "2  [[0, I really enjoyed this book, and there is ...       4 2016-04-25   \n",
       "3  [[0, A beautiful story.], [0, It is rare to en...       4 2016-09-20   \n",
       "4  [[0, I love Stephenson - and this was another ...       5 2016-12-14   \n",
       "\n",
       "   n_votes  n_comments  has_spoiler  \n",
       "0       28           1         True  \n",
       "1       22           0         True  \n",
       "2        9           1         True  \n",
       "3       35           5        False  \n",
       "4       40           6        False  "
      ]
     },
     "execution_count": 10,
     "metadata": {},
     "output_type": "execute_result"
    }
   ],
   "source": [
    "reduced_df.head()"
   ]
  },
  {
   "cell_type": "code",
   "execution_count": 11,
   "id": "2f177860",
   "metadata": {},
   "outputs": [],
   "source": [
    "# TODO change at the end\n",
    "df = pd.read_json(\"./data/reduced.json\")"
   ]
  },
  {
   "cell_type": "code",
   "execution_count": 12,
   "id": "3d066054",
   "metadata": {},
   "outputs": [
    {
     "data": {
      "text/html": [
       "<div>\n",
       "<style scoped>\n",
       "    .dataframe tbody tr th:only-of-type {\n",
       "        vertical-align: middle;\n",
       "    }\n",
       "\n",
       "    .dataframe tbody tr th {\n",
       "        vertical-align: top;\n",
       "    }\n",
       "\n",
       "    .dataframe thead th {\n",
       "        text-align: right;\n",
       "    }\n",
       "</style>\n",
       "<table border=\"1\" class=\"dataframe\">\n",
       "  <thead>\n",
       "    <tr style=\"text-align: right;\">\n",
       "      <th></th>\n",
       "      <th>user_id</th>\n",
       "      <th>book_id</th>\n",
       "      <th>review_sentences</th>\n",
       "      <th>rating</th>\n",
       "      <th>timestamp</th>\n",
       "      <th>n_votes</th>\n",
       "      <th>n_comments</th>\n",
       "      <th>has_spoiler</th>\n",
       "    </tr>\n",
       "  </thead>\n",
       "  <tbody>\n",
       "    <tr>\n",
       "      <th>0</th>\n",
       "      <td>8842281e1d1347389f2ab93d60773d4d</td>\n",
       "      <td>18245960</td>\n",
       "      <td>[[0, This is a special book.], [0, It started ...</td>\n",
       "      <td>5</td>\n",
       "      <td>2017-08-30</td>\n",
       "      <td>28</td>\n",
       "      <td>1</td>\n",
       "      <td>True</td>\n",
       "    </tr>\n",
       "    <tr>\n",
       "      <th>1</th>\n",
       "      <td>8842281e1d1347389f2ab93d60773d4d</td>\n",
       "      <td>28684704</td>\n",
       "      <td>[[0, A fun, fast paced science fiction thrille...</td>\n",
       "      <td>3</td>\n",
       "      <td>2017-03-20</td>\n",
       "      <td>22</td>\n",
       "      <td>0</td>\n",
       "      <td>True</td>\n",
       "    </tr>\n",
       "    <tr>\n",
       "      <th>2</th>\n",
       "      <td>8842281e1d1347389f2ab93d60773d4d</td>\n",
       "      <td>25884323</td>\n",
       "      <td>[[0, I really enjoyed this book, and there is ...</td>\n",
       "      <td>4</td>\n",
       "      <td>2016-04-25</td>\n",
       "      <td>9</td>\n",
       "      <td>1</td>\n",
       "      <td>True</td>\n",
       "    </tr>\n",
       "    <tr>\n",
       "      <th>3</th>\n",
       "      <td>8842281e1d1347389f2ab93d60773d4d</td>\n",
       "      <td>19398490</td>\n",
       "      <td>[[0, A beautiful story.], [0, It is rare to en...</td>\n",
       "      <td>4</td>\n",
       "      <td>2016-09-20</td>\n",
       "      <td>35</td>\n",
       "      <td>5</td>\n",
       "      <td>False</td>\n",
       "    </tr>\n",
       "    <tr>\n",
       "      <th>4</th>\n",
       "      <td>8842281e1d1347389f2ab93d60773d4d</td>\n",
       "      <td>22816087</td>\n",
       "      <td>[[0, I love Stephenson - and this was another ...</td>\n",
       "      <td>5</td>\n",
       "      <td>2016-12-14</td>\n",
       "      <td>40</td>\n",
       "      <td>6</td>\n",
       "      <td>False</td>\n",
       "    </tr>\n",
       "  </tbody>\n",
       "</table>\n",
       "</div>"
      ],
      "text/plain": [
       "                            user_id   book_id  \\\n",
       "0  8842281e1d1347389f2ab93d60773d4d  18245960   \n",
       "1  8842281e1d1347389f2ab93d60773d4d  28684704   \n",
       "2  8842281e1d1347389f2ab93d60773d4d  25884323   \n",
       "3  8842281e1d1347389f2ab93d60773d4d  19398490   \n",
       "4  8842281e1d1347389f2ab93d60773d4d  22816087   \n",
       "\n",
       "                                    review_sentences  rating  timestamp  \\\n",
       "0  [[0, This is a special book.], [0, It started ...       5 2017-08-30   \n",
       "1  [[0, A fun, fast paced science fiction thrille...       3 2017-03-20   \n",
       "2  [[0, I really enjoyed this book, and there is ...       4 2016-04-25   \n",
       "3  [[0, A beautiful story.], [0, It is rare to en...       4 2016-09-20   \n",
       "4  [[0, I love Stephenson - and this was another ...       5 2016-12-14   \n",
       "\n",
       "   n_votes  n_comments  has_spoiler  \n",
       "0       28           1         True  \n",
       "1       22           0         True  \n",
       "2        9           1         True  \n",
       "3       35           5        False  \n",
       "4       40           6        False  "
      ]
     },
     "execution_count": 12,
     "metadata": {},
     "output_type": "execute_result"
    }
   ],
   "source": [
    "df.head()"
   ]
  },
  {
   "cell_type": "markdown",
   "id": "8a63fefc-dbdf-4ee8-9e02-32947ae67c3c",
   "metadata": {},
   "source": [
    "## Preprocess review_text (Melisa)"
   ]
  },
  {
   "cell_type": "code",
   "execution_count": 13,
   "id": "cb444d98-d535-4d1d-8551-935973563ffd",
   "metadata": {},
   "outputs": [],
   "source": [
    "stop_words = set(stopwords.words(\"english\"))\n",
    "lemmatizer = WordNetLemmatizer()\n",
    "\n",
    "def process_review_text(val):\n",
    "    clean_test = []\n",
    "    for sentence in val:\n",
    "        # Tokenize the sentence\n",
    "        words = word_tokenize(sentence[1])\n",
    "        # Lowercase and remove non-alphanumeric characters\n",
    "        words = [word.lower() for word in words if word.isalnum()]\n",
    "        # Remove stopwords \n",
    "        words = [word for word in words if word not in stop_words]\n",
    "        # Append the cleaned sentence to the cleaned dataset\n",
    "        \n",
    "        #LEMMATIZATION ÇOK BİR ŞEY DEĞİŞTİRMİYOR, YETERLİ Mİ YOKSA STEMMİNG Mİ YAPMALIYIZ? İLERDE DURUMA GÖRE BURAYA GERİ DÖN\n",
    "        normalized_words = [lemmatizer.lemmatize(word) for word in words]\n",
    "        clean_test.append(normalized_words)\n",
    "        \n",
    "    \n",
    "    # Build a vocabulary\n",
    "    vocab = set(word for sentence in clean_test for word in sentence)\n",
    "    word_to_index = {word: index for index, word in enumerate(vocab)}\n",
    "\n",
    "    # NUMERICAL REPRESENTATION\n",
    "    numerical_data = [[word_to_index[word] for word in sentence] for sentence in clean_test]\n",
    "    \n",
    "    \n",
    "    # Padding sequences / BAŞLANGIÇ OLARAK 13 SEÇTİM AMA CÜMLE UZUNLUĞU MEANİ 8, OLABİLDİĞİNCE ACCURATE OLSUN DİYE. EĞER HIZDAN DOLAYI\n",
    "    # SIKINTI YAŞAMAYA BAŞLARSAK BURAYI 8-13 ARASI GİTTİKÇE AŞAĞI ÇEKEBİLİRİZ.\n",
    "    max_sequence_length = 13\n",
    "    padded_data = [seq[:max_sequence_length] + [0] * max(0, max_sequence_length - len(seq)) for seq in numerical_data]\n",
    "    \n",
    "    \n",
    "    padded_data = torch.tensor(padded_data)\n",
    "    #print(padded_data)\n",
    "\n",
    "    #SPOILER LABELS\n",
    "    label_lst = [i[0] for i in val]\n",
    "    labels = torch.tensor(label_lst)\n",
    "\n",
    "    dataset = TensorDataset(padded_data, labels)\n",
    "        \n",
    "    return dataset"
   ]
  },
  {
   "cell_type": "code",
   "execution_count": 14,
   "id": "d95a7cb2-c856-4163-8cb7-4a37e0104bab",
   "metadata": {},
   "outputs": [
    {
     "ename": "KeyboardInterrupt",
     "evalue": "",
     "output_type": "error",
     "traceback": [
      "\u001b[1;31m---------------------------------------------------------------------------\u001b[0m",
      "\u001b[1;31mKeyboardInterrupt\u001b[0m                         Traceback (most recent call last)",
      "Cell \u001b[1;32mIn[14], line 7\u001b[0m\n\u001b[0;32m      2\u001b[0m smaller_df \u001b[38;5;241m=\u001b[39m df\u001b[38;5;241m.\u001b[39miloc[:\u001b[38;5;241m20000\u001b[39m]\n\u001b[0;32m      3\u001b[0m \u001b[38;5;66;03m#print(smaller_df.shape)\u001b[39;00m\n\u001b[0;32m      4\u001b[0m \u001b[38;5;66;03m#print(df[\"review_sentences\"])\u001b[39;00m\n\u001b[1;32m----> 7\u001b[0m smaller_df[\u001b[38;5;124m\"\u001b[39m\u001b[38;5;124mtest\u001b[39m\u001b[38;5;124m\"\u001b[39m] \u001b[38;5;241m=\u001b[39m \u001b[43msmaller_df\u001b[49m\u001b[43m[\u001b[49m\u001b[38;5;124;43m\"\u001b[39;49m\u001b[38;5;124;43mreview_sentences\u001b[39;49m\u001b[38;5;124;43m\"\u001b[39;49m\u001b[43m]\u001b[49m\u001b[38;5;241;43m.\u001b[39;49m\u001b[43mapply\u001b[49m\u001b[43m(\u001b[49m\u001b[43mprocess_review_text\u001b[49m\u001b[43m)\u001b[49m\n\u001b[0;32m      8\u001b[0m \u001b[38;5;66;03m#print(smaller_df[\"test\"].describe)\u001b[39;00m\n",
      "File \u001b[1;32m~\\anaconda3\\envs\\eoTorch\\Lib\\site-packages\\pandas\\core\\series.py:4630\u001b[0m, in \u001b[0;36mSeries.apply\u001b[1;34m(self, func, convert_dtype, args, **kwargs)\u001b[0m\n\u001b[0;32m   4520\u001b[0m \u001b[38;5;28;01mdef\u001b[39;00m \u001b[38;5;21mapply\u001b[39m(\n\u001b[0;32m   4521\u001b[0m     \u001b[38;5;28mself\u001b[39m,\n\u001b[0;32m   4522\u001b[0m     func: AggFuncType,\n\u001b[1;32m   (...)\u001b[0m\n\u001b[0;32m   4525\u001b[0m     \u001b[38;5;241m*\u001b[39m\u001b[38;5;241m*\u001b[39mkwargs,\n\u001b[0;32m   4526\u001b[0m ) \u001b[38;5;241m-\u001b[39m\u001b[38;5;241m>\u001b[39m DataFrame \u001b[38;5;241m|\u001b[39m Series:\n\u001b[0;32m   4527\u001b[0m \u001b[38;5;250m    \u001b[39m\u001b[38;5;124;03m\"\"\"\u001b[39;00m\n\u001b[0;32m   4528\u001b[0m \u001b[38;5;124;03m    Invoke function on values of Series.\u001b[39;00m\n\u001b[0;32m   4529\u001b[0m \n\u001b[1;32m   (...)\u001b[0m\n\u001b[0;32m   4628\u001b[0m \u001b[38;5;124;03m    dtype: float64\u001b[39;00m\n\u001b[0;32m   4629\u001b[0m \u001b[38;5;124;03m    \"\"\"\u001b[39;00m\n\u001b[1;32m-> 4630\u001b[0m     \u001b[38;5;28;01mreturn\u001b[39;00m \u001b[43mSeriesApply\u001b[49m\u001b[43m(\u001b[49m\u001b[38;5;28;43mself\u001b[39;49m\u001b[43m,\u001b[49m\u001b[43m \u001b[49m\u001b[43mfunc\u001b[49m\u001b[43m,\u001b[49m\u001b[43m \u001b[49m\u001b[43mconvert_dtype\u001b[49m\u001b[43m,\u001b[49m\u001b[43m \u001b[49m\u001b[43margs\u001b[49m\u001b[43m,\u001b[49m\u001b[43m \u001b[49m\u001b[43mkwargs\u001b[49m\u001b[43m)\u001b[49m\u001b[38;5;241;43m.\u001b[39;49m\u001b[43mapply\u001b[49m\u001b[43m(\u001b[49m\u001b[43m)\u001b[49m\n",
      "File \u001b[1;32m~\\anaconda3\\envs\\eoTorch\\Lib\\site-packages\\pandas\\core\\apply.py:1025\u001b[0m, in \u001b[0;36mSeriesApply.apply\u001b[1;34m(self)\u001b[0m\n\u001b[0;32m   1022\u001b[0m     \u001b[38;5;28;01mreturn\u001b[39;00m \u001b[38;5;28mself\u001b[39m\u001b[38;5;241m.\u001b[39mapply_str()\n\u001b[0;32m   1024\u001b[0m \u001b[38;5;66;03m# self.f is Callable\u001b[39;00m\n\u001b[1;32m-> 1025\u001b[0m \u001b[38;5;28;01mreturn\u001b[39;00m \u001b[38;5;28;43mself\u001b[39;49m\u001b[38;5;241;43m.\u001b[39;49m\u001b[43mapply_standard\u001b[49m\u001b[43m(\u001b[49m\u001b[43m)\u001b[49m\n",
      "File \u001b[1;32m~\\anaconda3\\envs\\eoTorch\\Lib\\site-packages\\pandas\\core\\apply.py:1076\u001b[0m, in \u001b[0;36mSeriesApply.apply_standard\u001b[1;34m(self)\u001b[0m\n\u001b[0;32m   1074\u001b[0m     \u001b[38;5;28;01melse\u001b[39;00m:\n\u001b[0;32m   1075\u001b[0m         values \u001b[38;5;241m=\u001b[39m obj\u001b[38;5;241m.\u001b[39mastype(\u001b[38;5;28mobject\u001b[39m)\u001b[38;5;241m.\u001b[39m_values\n\u001b[1;32m-> 1076\u001b[0m         mapped \u001b[38;5;241m=\u001b[39m \u001b[43mlib\u001b[49m\u001b[38;5;241;43m.\u001b[39;49m\u001b[43mmap_infer\u001b[49m\u001b[43m(\u001b[49m\n\u001b[0;32m   1077\u001b[0m \u001b[43m            \u001b[49m\u001b[43mvalues\u001b[49m\u001b[43m,\u001b[49m\n\u001b[0;32m   1078\u001b[0m \u001b[43m            \u001b[49m\u001b[43mf\u001b[49m\u001b[43m,\u001b[49m\n\u001b[0;32m   1079\u001b[0m \u001b[43m            \u001b[49m\u001b[43mconvert\u001b[49m\u001b[38;5;241;43m=\u001b[39;49m\u001b[38;5;28;43mself\u001b[39;49m\u001b[38;5;241;43m.\u001b[39;49m\u001b[43mconvert_dtype\u001b[49m\u001b[43m,\u001b[49m\n\u001b[0;32m   1080\u001b[0m \u001b[43m        \u001b[49m\u001b[43m)\u001b[49m\n\u001b[0;32m   1082\u001b[0m \u001b[38;5;28;01mif\u001b[39;00m \u001b[38;5;28mlen\u001b[39m(mapped) \u001b[38;5;129;01mand\u001b[39;00m \u001b[38;5;28misinstance\u001b[39m(mapped[\u001b[38;5;241m0\u001b[39m], ABCSeries):\n\u001b[0;32m   1083\u001b[0m     \u001b[38;5;66;03m# GH#43986 Need to do list(mapped) in order to get treated as nested\u001b[39;00m\n\u001b[0;32m   1084\u001b[0m     \u001b[38;5;66;03m#  See also GH#25959 regarding EA support\u001b[39;00m\n\u001b[0;32m   1085\u001b[0m     \u001b[38;5;28;01mreturn\u001b[39;00m obj\u001b[38;5;241m.\u001b[39m_constructor_expanddim(\u001b[38;5;28mlist\u001b[39m(mapped), index\u001b[38;5;241m=\u001b[39mobj\u001b[38;5;241m.\u001b[39mindex)\n",
      "File \u001b[1;32m~\\anaconda3\\envs\\eoTorch\\Lib\\site-packages\\pandas\\_libs\\lib.pyx:2834\u001b[0m, in \u001b[0;36mpandas._libs.lib.map_infer\u001b[1;34m()\u001b[0m\n",
      "Cell \u001b[1;32mIn[13], line 34\u001b[0m, in \u001b[0;36mprocess_review_text\u001b[1;34m(val)\u001b[0m\n\u001b[0;32m     30\u001b[0m max_sequence_length \u001b[38;5;241m=\u001b[39m \u001b[38;5;241m13\u001b[39m\n\u001b[0;32m     31\u001b[0m padded_data \u001b[38;5;241m=\u001b[39m [seq[:max_sequence_length] \u001b[38;5;241m+\u001b[39m [\u001b[38;5;241m0\u001b[39m] \u001b[38;5;241m*\u001b[39m \u001b[38;5;28mmax\u001b[39m(\u001b[38;5;241m0\u001b[39m, max_sequence_length \u001b[38;5;241m-\u001b[39m \u001b[38;5;28mlen\u001b[39m(seq)) \u001b[38;5;28;01mfor\u001b[39;00m seq \u001b[38;5;129;01min\u001b[39;00m numerical_data]\n\u001b[1;32m---> 34\u001b[0m padded_data \u001b[38;5;241m=\u001b[39m \u001b[43mtorch\u001b[49m\u001b[38;5;241;43m.\u001b[39;49m\u001b[43mtensor\u001b[49m\u001b[43m(\u001b[49m\u001b[43mpadded_data\u001b[49m\u001b[43m)\u001b[49m\n\u001b[0;32m     35\u001b[0m \u001b[38;5;66;03m#print(padded_data)\u001b[39;00m\n\u001b[0;32m     36\u001b[0m \n\u001b[0;32m     37\u001b[0m \u001b[38;5;66;03m#SPOILER LABELS\u001b[39;00m\n\u001b[0;32m     38\u001b[0m label_lst \u001b[38;5;241m=\u001b[39m [i[\u001b[38;5;241m0\u001b[39m] \u001b[38;5;28;01mfor\u001b[39;00m i \u001b[38;5;129;01min\u001b[39;00m val]\n",
      "\u001b[1;31mKeyboardInterrupt\u001b[0m: "
     ]
    }
   ],
   "source": [
    "\n",
    "# WORKING ON A SMALL SUBSET FOR NOW JUST TO MAKE SURE EVERYTHING WORKS\n",
    "smaller_df = df.iloc[:20000]\n",
    "#print(smaller_df.shape)\n",
    "#print(df[\"review_sentences\"])\n",
    "\n",
    "\n",
    "smaller_df[\"test\"] = smaller_df[\"review_sentences\"].apply(process_review_text)\n",
    "#print(smaller_df[\"test\"].describe)\n"
   ]
  },
  {
   "cell_type": "code",
   "execution_count": 15,
   "id": "fd643f25-8a79-46a1-b529-2714e80aa123",
   "metadata": {},
   "outputs": [
    {
     "ename": "KeyError",
     "evalue": "'test'",
     "output_type": "error",
     "traceback": [
      "\u001b[1;31m---------------------------------------------------------------------------\u001b[0m",
      "\u001b[1;31mKeyError\u001b[0m                                  Traceback (most recent call last)",
      "File \u001b[1;32m~\\anaconda3\\envs\\eoTorch\\Lib\\site-packages\\pandas\\core\\indexes\\base.py:3653\u001b[0m, in \u001b[0;36mIndex.get_loc\u001b[1;34m(self, key)\u001b[0m\n\u001b[0;32m   3652\u001b[0m \u001b[38;5;28;01mtry\u001b[39;00m:\n\u001b[1;32m-> 3653\u001b[0m     \u001b[38;5;28;01mreturn\u001b[39;00m \u001b[38;5;28;43mself\u001b[39;49m\u001b[38;5;241;43m.\u001b[39;49m\u001b[43m_engine\u001b[49m\u001b[38;5;241;43m.\u001b[39;49m\u001b[43mget_loc\u001b[49m\u001b[43m(\u001b[49m\u001b[43mcasted_key\u001b[49m\u001b[43m)\u001b[49m\n\u001b[0;32m   3654\u001b[0m \u001b[38;5;28;01mexcept\u001b[39;00m \u001b[38;5;167;01mKeyError\u001b[39;00m \u001b[38;5;28;01mas\u001b[39;00m err:\n",
      "File \u001b[1;32m~\\anaconda3\\envs\\eoTorch\\Lib\\site-packages\\pandas\\_libs\\index.pyx:147\u001b[0m, in \u001b[0;36mpandas._libs.index.IndexEngine.get_loc\u001b[1;34m()\u001b[0m\n",
      "File \u001b[1;32m~\\anaconda3\\envs\\eoTorch\\Lib\\site-packages\\pandas\\_libs\\index.pyx:176\u001b[0m, in \u001b[0;36mpandas._libs.index.IndexEngine.get_loc\u001b[1;34m()\u001b[0m\n",
      "File \u001b[1;32mpandas\\_libs\\hashtable_class_helper.pxi:7080\u001b[0m, in \u001b[0;36mpandas._libs.hashtable.PyObjectHashTable.get_item\u001b[1;34m()\u001b[0m\n",
      "File \u001b[1;32mpandas\\_libs\\hashtable_class_helper.pxi:7088\u001b[0m, in \u001b[0;36mpandas._libs.hashtable.PyObjectHashTable.get_item\u001b[1;34m()\u001b[0m\n",
      "\u001b[1;31mKeyError\u001b[0m: 'test'",
      "\nThe above exception was the direct cause of the following exception:\n",
      "\u001b[1;31mKeyError\u001b[0m                                  Traceback (most recent call last)",
      "Cell \u001b[1;32mIn[15], line 1\u001b[0m\n\u001b[1;32m----> 1\u001b[0m \u001b[38;5;28mprint\u001b[39m(\u001b[43msmaller_df\u001b[49m\u001b[43m[\u001b[49m\u001b[38;5;124;43m\"\u001b[39;49m\u001b[38;5;124;43mtest\u001b[39;49m\u001b[38;5;124;43m\"\u001b[39;49m\u001b[43m]\u001b[49m[\u001b[38;5;241m1\u001b[39m])\n",
      "File \u001b[1;32m~\\anaconda3\\envs\\eoTorch\\Lib\\site-packages\\pandas\\core\\frame.py:3761\u001b[0m, in \u001b[0;36mDataFrame.__getitem__\u001b[1;34m(self, key)\u001b[0m\n\u001b[0;32m   3759\u001b[0m \u001b[38;5;28;01mif\u001b[39;00m \u001b[38;5;28mself\u001b[39m\u001b[38;5;241m.\u001b[39mcolumns\u001b[38;5;241m.\u001b[39mnlevels \u001b[38;5;241m>\u001b[39m \u001b[38;5;241m1\u001b[39m:\n\u001b[0;32m   3760\u001b[0m     \u001b[38;5;28;01mreturn\u001b[39;00m \u001b[38;5;28mself\u001b[39m\u001b[38;5;241m.\u001b[39m_getitem_multilevel(key)\n\u001b[1;32m-> 3761\u001b[0m indexer \u001b[38;5;241m=\u001b[39m \u001b[38;5;28;43mself\u001b[39;49m\u001b[38;5;241;43m.\u001b[39;49m\u001b[43mcolumns\u001b[49m\u001b[38;5;241;43m.\u001b[39;49m\u001b[43mget_loc\u001b[49m\u001b[43m(\u001b[49m\u001b[43mkey\u001b[49m\u001b[43m)\u001b[49m\n\u001b[0;32m   3762\u001b[0m \u001b[38;5;28;01mif\u001b[39;00m is_integer(indexer):\n\u001b[0;32m   3763\u001b[0m     indexer \u001b[38;5;241m=\u001b[39m [indexer]\n",
      "File \u001b[1;32m~\\anaconda3\\envs\\eoTorch\\Lib\\site-packages\\pandas\\core\\indexes\\base.py:3655\u001b[0m, in \u001b[0;36mIndex.get_loc\u001b[1;34m(self, key)\u001b[0m\n\u001b[0;32m   3653\u001b[0m     \u001b[38;5;28;01mreturn\u001b[39;00m \u001b[38;5;28mself\u001b[39m\u001b[38;5;241m.\u001b[39m_engine\u001b[38;5;241m.\u001b[39mget_loc(casted_key)\n\u001b[0;32m   3654\u001b[0m \u001b[38;5;28;01mexcept\u001b[39;00m \u001b[38;5;167;01mKeyError\u001b[39;00m \u001b[38;5;28;01mas\u001b[39;00m err:\n\u001b[1;32m-> 3655\u001b[0m     \u001b[38;5;28;01mraise\u001b[39;00m \u001b[38;5;167;01mKeyError\u001b[39;00m(key) \u001b[38;5;28;01mfrom\u001b[39;00m \u001b[38;5;21;01merr\u001b[39;00m\n\u001b[0;32m   3656\u001b[0m \u001b[38;5;28;01mexcept\u001b[39;00m \u001b[38;5;167;01mTypeError\u001b[39;00m:\n\u001b[0;32m   3657\u001b[0m     \u001b[38;5;66;03m# If we have a listlike key, _check_indexing_error will raise\u001b[39;00m\n\u001b[0;32m   3658\u001b[0m     \u001b[38;5;66;03m#  InvalidIndexError. Otherwise we fall through and re-raise\u001b[39;00m\n\u001b[0;32m   3659\u001b[0m     \u001b[38;5;66;03m#  the TypeError.\u001b[39;00m\n\u001b[0;32m   3660\u001b[0m     \u001b[38;5;28mself\u001b[39m\u001b[38;5;241m.\u001b[39m_check_indexing_error(key)\n",
      "\u001b[1;31mKeyError\u001b[0m: 'test'"
     ]
    }
   ],
   "source": [
    "print(smaller_df[\"test\"][1])"
   ]
  },
  {
   "cell_type": "markdown",
   "id": "41300946-f440-4d9d-99af-70ffbb98a616",
   "metadata": {},
   "source": [
    "## Basic Data Analysis (Melisa)"
   ]
  },
  {
   "cell_type": "code",
   "execution_count": 16,
   "id": "de6fd3ea-950f-4266-beb3-2222c8531a54",
   "metadata": {},
   "outputs": [
    {
     "name": "stdout",
     "output_type": "stream",
     "text": [
      "<class 'pandas.core.frame.DataFrame'>\n",
      "Index: 662210 entries, 0 to 662209\n",
      "Data columns (total 8 columns):\n",
      " #   Column            Non-Null Count   Dtype         \n",
      "---  ------            --------------   -----         \n",
      " 0   user_id           662210 non-null  object        \n",
      " 1   book_id           662210 non-null  int64         \n",
      " 2   review_sentences  662210 non-null  object        \n",
      " 3   rating            662210 non-null  int64         \n",
      " 4   timestamp         662210 non-null  datetime64[ns]\n",
      " 5   n_votes           662210 non-null  int64         \n",
      " 6   n_comments        662210 non-null  int64         \n",
      " 7   has_spoiler       662210 non-null  bool          \n",
      "dtypes: bool(1), datetime64[ns](1), int64(4), object(2)\n",
      "memory usage: 41.0+ MB\n"
     ]
    }
   ],
   "source": [
    "df.info()"
   ]
  },
  {
   "cell_type": "code",
   "execution_count": 17,
   "id": "c9963685-acc9-49b0-8283-5ca789094cfe",
   "metadata": {},
   "outputs": [
    {
     "data": {
      "text/html": [
       "<div>\n",
       "<style scoped>\n",
       "    .dataframe tbody tr th:only-of-type {\n",
       "        vertical-align: middle;\n",
       "    }\n",
       "\n",
       "    .dataframe tbody tr th {\n",
       "        vertical-align: top;\n",
       "    }\n",
       "\n",
       "    .dataframe thead th {\n",
       "        text-align: right;\n",
       "    }\n",
       "</style>\n",
       "<table border=\"1\" class=\"dataframe\">\n",
       "  <thead>\n",
       "    <tr style=\"text-align: right;\">\n",
       "      <th></th>\n",
       "      <th>book_id</th>\n",
       "      <th>rating</th>\n",
       "      <th>timestamp</th>\n",
       "      <th>n_votes</th>\n",
       "      <th>n_comments</th>\n",
       "    </tr>\n",
       "  </thead>\n",
       "  <tbody>\n",
       "    <tr>\n",
       "      <th>count</th>\n",
       "      <td>6.622100e+05</td>\n",
       "      <td>662210.000000</td>\n",
       "      <td>662210</td>\n",
       "      <td>662210.000000</td>\n",
       "      <td>662210.000000</td>\n",
       "    </tr>\n",
       "    <tr>\n",
       "      <th>mean</th>\n",
       "      <td>1.531736e+07</td>\n",
       "      <td>3.698121</td>\n",
       "      <td>2015-04-10 07:52:39.047432192</td>\n",
       "      <td>3.432511</td>\n",
       "      <td>0.960691</td>\n",
       "    </tr>\n",
       "    <tr>\n",
       "      <th>min</th>\n",
       "      <td>1.000000e+00</td>\n",
       "      <td>0.000000</td>\n",
       "      <td>2007-02-27 00:00:00</td>\n",
       "      <td>-3.000000</td>\n",
       "      <td>-2.000000</td>\n",
       "    </tr>\n",
       "    <tr>\n",
       "      <th>25%</th>\n",
       "      <td>9.462795e+06</td>\n",
       "      <td>3.000000</td>\n",
       "      <td>2014-01-05 00:00:00</td>\n",
       "      <td>0.000000</td>\n",
       "      <td>0.000000</td>\n",
       "    </tr>\n",
       "    <tr>\n",
       "      <th>50%</th>\n",
       "      <td>1.583998e+07</td>\n",
       "      <td>4.000000</td>\n",
       "      <td>2015-08-16 00:00:00</td>\n",
       "      <td>0.000000</td>\n",
       "      <td>0.000000</td>\n",
       "    </tr>\n",
       "    <tr>\n",
       "      <th>75%</th>\n",
       "      <td>2.208210e+07</td>\n",
       "      <td>5.000000</td>\n",
       "      <td>2016-10-16 00:00:00</td>\n",
       "      <td>2.000000</td>\n",
       "      <td>0.000000</td>\n",
       "    </tr>\n",
       "    <tr>\n",
       "      <th>max</th>\n",
       "      <td>3.632868e+07</td>\n",
       "      <td>5.000000</td>\n",
       "      <td>2017-11-05 00:00:00</td>\n",
       "      <td>3167.000000</td>\n",
       "      <td>1335.000000</td>\n",
       "    </tr>\n",
       "    <tr>\n",
       "      <th>std</th>\n",
       "      <td>8.631684e+06</td>\n",
       "      <td>1.257962</td>\n",
       "      <td>NaN</td>\n",
       "      <td>19.021772</td>\n",
       "      <td>5.610807</td>\n",
       "    </tr>\n",
       "  </tbody>\n",
       "</table>\n",
       "</div>"
      ],
      "text/plain": [
       "            book_id         rating                      timestamp  \\\n",
       "count  6.622100e+05  662210.000000                         662210   \n",
       "mean   1.531736e+07       3.698121  2015-04-10 07:52:39.047432192   \n",
       "min    1.000000e+00       0.000000            2007-02-27 00:00:00   \n",
       "25%    9.462795e+06       3.000000            2014-01-05 00:00:00   \n",
       "50%    1.583998e+07       4.000000            2015-08-16 00:00:00   \n",
       "75%    2.208210e+07       5.000000            2016-10-16 00:00:00   \n",
       "max    3.632868e+07       5.000000            2017-11-05 00:00:00   \n",
       "std    8.631684e+06       1.257962                            NaN   \n",
       "\n",
       "             n_votes     n_comments  \n",
       "count  662210.000000  662210.000000  \n",
       "mean        3.432511       0.960691  \n",
       "min        -3.000000      -2.000000  \n",
       "25%         0.000000       0.000000  \n",
       "50%         0.000000       0.000000  \n",
       "75%         2.000000       0.000000  \n",
       "max      3167.000000    1335.000000  \n",
       "std        19.021772       5.610807  "
      ]
     },
     "execution_count": 17,
     "metadata": {},
     "output_type": "execute_result"
    }
   ],
   "source": [
    "df.describe()"
   ]
  },
  {
   "cell_type": "code",
   "execution_count": 18,
   "id": "485b3e2c-9724-4c9b-896e-f4653678c9d0",
   "metadata": {},
   "outputs": [
    {
     "data": {
      "text/plain": [
       "False"
      ]
     },
     "execution_count": 18,
     "metadata": {},
     "output_type": "execute_result"
    }
   ],
   "source": [
    "df.isna().values.any()"
   ]
  },
  {
   "cell_type": "code",
   "execution_count": 19,
   "id": "40cdcdd3-b65e-4be8-9287-621c2734525b",
   "metadata": {},
   "outputs": [
    {
     "data": {
      "text/plain": [
       "<Axes: xlabel='rating', ylabel='n_votes'>"
      ]
     },
     "execution_count": 19,
     "metadata": {},
     "output_type": "execute_result"
    },
    {
     "data": {
      "image/png": "[encoded data removed]",
      "text/plain": [
       "<Figure size 640x480 with 1 Axes>"
      ]
     },
     "metadata": {},
     "output_type": "display_data"
    }
   ],
   "source": [
    "df.plot(kind='scatter', x='rating', y='n_votes')"
   ]
  },
  {
   "cell_type": "code",
   "execution_count": 20,
   "id": "292aa0a7-029d-458d-b80a-b0da69e9bd77",
   "metadata": {},
   "outputs": [
    {
     "data": {
      "text/plain": [
       "<Axes: xlabel='rating', ylabel='n_comments'>"
      ]
     },
     "execution_count": 20,
     "metadata": {},
     "output_type": "execute_result"
    },
    {
     "data": {
      "image/png": "[encoded data removed]",
      "text/plain": [
       "<Figure size 640x480 with 1 Axes>"
      ]
     },
     "metadata": {},
     "output_type": "display_data"
    }
   ],
   "source": [
    "df.plot(kind='scatter', x='rating', y='n_comments')"
   ]
  },
  {
   "cell_type": "code",
   "execution_count": 21,
   "id": "318102f6-d048-4bcf-9ba6-f7fe0f36ae8d",
   "metadata": {},
   "outputs": [
    {
     "data": {
      "text/plain": [
       "<Axes: xlabel='n_votes', ylabel='n_comments'>"
      ]
     },
     "execution_count": 21,
     "metadata": {},
     "output_type": "execute_result"
    },
    {
     "data": {
      "image/png": "[encoded data removed]",
      "text/plain": [
       "<Figure size 640x480 with 1 Axes>"
      ]
     },
     "metadata": {},
     "output_type": "display_data"
    }
   ],
   "source": [
    "df.plot(kind='scatter', x='n_votes', y='n_comments')"
   ]
  },
  {
   "cell_type": "markdown",
   "id": "35739af6-3653-429f-8a16-8c478fead1ae",
   "metadata": {},
   "source": [
    "## Normalize and Feature Scale the Data (Eren)"
   ]
  },
  {
   "cell_type": "code",
   "execution_count": 47,
   "id": "1b4916b6",
   "metadata": {},
   "outputs": [],
   "source": [
    "train, test = train_test_split(df, test_size=0.2)"
   ]
  },
  {
   "cell_type": "code",
   "execution_count": 50,
   "id": "9e2de86d",
   "metadata": {},
   "outputs": [],
   "source": [
    "def outlier_detection_plot(column):\n",
    "    fig, (ax1, ax2) = plt.subplots(1, 2, figsize=(12, 6))\n",
    "\n",
    "    ax1.hist(train[column], log=True, bins=30)\n",
    "    ax1.set_title(f'Histogram of {column}')\n",
    "\n",
    "    ax2.boxplot(train[column], vert=False)\n",
    "    ax2.set_title(f'Boxplot of {column}')\n",
    "\n",
    "    plt.tight_layout()\n",
    "    plt.show()"
   ]
  },
  {
   "cell_type": "code",
   "execution_count": 51,
   "id": "d450681e",
   "metadata": {
    "scrolled": true
   },
   "outputs": [
    {
     "data": {
      "image/png": "[encoded data removed]",
      "text/plain": [
       "<Figure size 1200x600 with 2 Axes>"
      ]
     },
     "metadata": {},
     "output_type": "display_data"
    }
   ],
   "source": [
    "# We need to detect ourliers in numeric columns before scaling\n",
    "outlier_detection_plot(\"n_votes\")"
   ]
  },
  {
   "cell_type": "code",
   "execution_count": 52,
   "id": "a772c5cd",
   "metadata": {},
   "outputs": [
    {
     "data": {
      "image/png": "[encoded data removed]",
      "text/plain": [
       "<Figure size 1200x600 with 2 Axes>"
      ]
     },
     "metadata": {},
     "output_type": "display_data"
    }
   ],
   "source": [
    "# FIXED VERSION OF N_VOTES\n",
    "train[\"n_votes\"] = train[\"n_votes\"].apply(lambda x: 250+(x//100) if x>250 else x)\n",
    "\n",
    "outlier_detection_plot(\"n_votes\")"
   ]
  },
  {
   "cell_type": "code",
   "execution_count": 53,
   "id": "e23fd94c-d573-47d4-8800-e4bdb60d7e04",
   "metadata": {},
   "outputs": [
    {
     "data": {
      "image/png": "[encoded data removed]",
      "text/plain": [
       "<Figure size 1200x600 with 2 Axes>"
      ]
     },
     "metadata": {},
     "output_type": "display_data"
    }
   ],
   "source": [
    "outlier_detection_plot(\"n_comments\")"
   ]
  },
  {
   "cell_type": "code",
   "execution_count": 54,
   "id": "a3ad1c35",
   "metadata": {},
   "outputs": [
    {
     "data": {
      "image/png": "[encoded data removed]",
      "text/plain": [
       "<Figure size 1200x600 with 2 Axes>"
      ]
     },
     "metadata": {},
     "output_type": "display_data"
    }
   ],
   "source": [
    "# FIXED VERSION OF N_COMMENTS\n",
    "\n",
    "train[\"n_comments\"] = train[\"n_comments\"].apply(lambda x: 100+(x//100) if x>100 else x)\n",
    "outlier_detection_plot(\"n_comments\")"
   ]
  },
  {
   "cell_type": "code",
   "execution_count": 55,
   "id": "fbebb85c",
   "metadata": {},
   "outputs": [],
   "source": [
    "mms_votes = MinMaxScaler()\n",
    "mms_comments = MinMaxScaler()\n",
    "\n",
    "# OrdinalEncoder is used to handle unknown values in test set\n",
    "le_user = OrdinalEncoder(handle_unknown=\"use_encoded_value\", unknown_value=train.user_id.nunique()+1)\n",
    "le_book = OrdinalEncoder(handle_unknown=\"use_encoded_value\", unknown_value=train.book_id.nunique()+1)\n",
    "\n",
    "# Fix inconsistent values\n",
    "train[\"n_votes\"] = train[\"n_votes\"].apply(lambda x: max(0,x))\n",
    "train[\"n_comments\"] = train[\"n_comments\"].apply(lambda x: max(0,x))\n",
    "# convert label from bool to numeric\n",
    "train[\"has_spoiler\"] = train[\"has_spoiler\"].apply(lambda x: int(x))\n",
    "# minMaxScaling for n_votes and n_comments features\n",
    "train[\"n_votes\"] =  mms_votes.fit_transform(train[\"n_votes\"].values.reshape(-1,1))\n",
    "train[\"n_comments\"] = mms_comments.fit_transform(train[\"n_comments\"].values.reshape(-1,1))\n",
    "# label encoding for user_id (to convert into numeric)\n",
    "train[\"user_id\"] = le_user.fit_transform(train[\"user_id\"].values.reshape(-1,1)).astype(int)\n",
    "train[\"book_id\"] = le_book.fit_transform(train[\"book_id\"].values.reshape(-1,1)).astype(int)\n",
    "\n",
    "train[\"rating\"] = train[\"rating\"].apply(lambda x: x/5)"
   ]
  },
  {
   "cell_type": "code",
   "execution_count": 56,
   "id": "9ff0a73c",
   "metadata": {
    "scrolled": true
   },
   "outputs": [
    {
     "data": {
      "text/html": [
       "<div>\n",
       "<style scoped>\n",
       "    .dataframe tbody tr th:only-of-type {\n",
       "        vertical-align: middle;\n",
       "    }\n",
       "\n",
       "    .dataframe tbody tr th {\n",
       "        vertical-align: top;\n",
       "    }\n",
       "\n",
       "    .dataframe thead th {\n",
       "        text-align: right;\n",
       "    }\n",
       "</style>\n",
       "<table border=\"1\" class=\"dataframe\">\n",
       "  <thead>\n",
       "    <tr style=\"text-align: right;\">\n",
       "      <th></th>\n",
       "      <th>user_id</th>\n",
       "      <th>book_id</th>\n",
       "      <th>rating</th>\n",
       "      <th>timestamp</th>\n",
       "      <th>n_votes</th>\n",
       "      <th>n_comments</th>\n",
       "      <th>has_spoiler</th>\n",
       "    </tr>\n",
       "  </thead>\n",
       "  <tbody>\n",
       "    <tr>\n",
       "      <th>count</th>\n",
       "      <td>529768.000000</td>\n",
       "      <td>529768.000000</td>\n",
       "      <td>529768.000000</td>\n",
       "      <td>529768</td>\n",
       "      <td>529768.000000</td>\n",
       "      <td>529768.000000</td>\n",
       "      <td>529768.000000</td>\n",
       "    </tr>\n",
       "    <tr>\n",
       "      <th>mean</th>\n",
       "      <td>9161.486403</td>\n",
       "      <td>7161.172043</td>\n",
       "      <td>0.739684</td>\n",
       "      <td>2015-04-10 06:01:34.266169600</td>\n",
       "      <td>0.011670</td>\n",
       "      <td>0.008317</td>\n",
       "      <td>0.098024</td>\n",
       "    </tr>\n",
       "    <tr>\n",
       "      <th>min</th>\n",
       "      <td>0.000000</td>\n",
       "      <td>0.000000</td>\n",
       "      <td>0.000000</td>\n",
       "      <td>2007-02-27 00:00:00</td>\n",
       "      <td>0.000000</td>\n",
       "      <td>0.000000</td>\n",
       "      <td>0.000000</td>\n",
       "    </tr>\n",
       "    <tr>\n",
       "      <th>25%</th>\n",
       "      <td>4599.000000</td>\n",
       "      <td>3961.000000</td>\n",
       "      <td>0.600000</td>\n",
       "      <td>2014-01-06 00:00:00</td>\n",
       "      <td>0.000000</td>\n",
       "      <td>0.000000</td>\n",
       "      <td>0.000000</td>\n",
       "    </tr>\n",
       "    <tr>\n",
       "      <th>50%</th>\n",
       "      <td>9184.000000</td>\n",
       "      <td>6890.000000</td>\n",
       "      <td>0.800000</td>\n",
       "      <td>2015-08-16 00:00:00</td>\n",
       "      <td>0.000000</td>\n",
       "      <td>0.000000</td>\n",
       "      <td>0.000000</td>\n",
       "    </tr>\n",
       "    <tr>\n",
       "      <th>75%</th>\n",
       "      <td>13749.000000</td>\n",
       "      <td>10436.250000</td>\n",
       "      <td>1.000000</td>\n",
       "      <td>2016-10-15 00:00:00</td>\n",
       "      <td>0.007117</td>\n",
       "      <td>0.000000</td>\n",
       "      <td>0.000000</td>\n",
       "    </tr>\n",
       "    <tr>\n",
       "      <th>max</th>\n",
       "      <td>18307.000000</td>\n",
       "      <td>14999.000000</td>\n",
       "      <td>1.000000</td>\n",
       "      <td>2017-11-05 00:00:00</td>\n",
       "      <td>1.000000</td>\n",
       "      <td>1.000000</td>\n",
       "      <td>1.000000</td>\n",
       "    </tr>\n",
       "    <tr>\n",
       "      <th>std</th>\n",
       "      <td>5283.910527</td>\n",
       "      <td>4007.027459</td>\n",
       "      <td>0.251619</td>\n",
       "      <td>NaN</td>\n",
       "      <td>0.048030</td>\n",
       "      <td>0.040378</td>\n",
       "      <td>0.297347</td>\n",
       "    </tr>\n",
       "  </tbody>\n",
       "</table>\n",
       "</div>"
      ],
      "text/plain": [
       "             user_id        book_id         rating  \\\n",
       "count  529768.000000  529768.000000  529768.000000   \n",
       "mean     9161.486403    7161.172043       0.739684   \n",
       "min         0.000000       0.000000       0.000000   \n",
       "25%      4599.000000    3961.000000       0.600000   \n",
       "50%      9184.000000    6890.000000       0.800000   \n",
       "75%     13749.000000   10436.250000       1.000000   \n",
       "max     18307.000000   14999.000000       1.000000   \n",
       "std      5283.910527    4007.027459       0.251619   \n",
       "\n",
       "                           timestamp        n_votes     n_comments  \\\n",
       "count                         529768  529768.000000  529768.000000   \n",
       "mean   2015-04-10 06:01:34.266169600       0.011670       0.008317   \n",
       "min              2007-02-27 00:00:00       0.000000       0.000000   \n",
       "25%              2014-01-06 00:00:00       0.000000       0.000000   \n",
       "50%              2015-08-16 00:00:00       0.000000       0.000000   \n",
       "75%              2016-10-15 00:00:00       0.007117       0.000000   \n",
       "max              2017-11-05 00:00:00       1.000000       1.000000   \n",
       "std                              NaN       0.048030       0.040378   \n",
       "\n",
       "         has_spoiler  \n",
       "count  529768.000000  \n",
       "mean        0.098024  \n",
       "min         0.000000  \n",
       "25%         0.000000  \n",
       "50%         0.000000  \n",
       "75%         0.000000  \n",
       "max         1.000000  \n",
       "std         0.297347  "
      ]
     },
     "execution_count": 56,
     "metadata": {},
     "output_type": "execute_result"
    }
   ],
   "source": [
    "train.describe()"
   ]
  },
  {
   "cell_type": "code",
   "execution_count": 57,
   "id": "3e839bb7",
   "metadata": {},
   "outputs": [
    {
     "data": {
      "text/plain": [
       "(529768, 8)"
      ]
     },
     "execution_count": 57,
     "metadata": {},
     "output_type": "execute_result"
    }
   ],
   "source": [
    "train.shape"
   ]
  },
  {
   "cell_type": "code",
   "execution_count": 58,
   "id": "d8bc42ac",
   "metadata": {},
   "outputs": [
    {
     "data": {
      "text/plain": [
       "(132442, 8)"
      ]
     },
     "execution_count": 58,
     "metadata": {},
     "output_type": "execute_result"
    }
   ],
   "source": [
    "test.shape"
   ]
  },
  {
   "cell_type": "code",
   "execution_count": 59,
   "id": "c94efd6c",
   "metadata": {},
   "outputs": [],
   "source": [
    "def test_preprocess(test_df, mms1, mms2, le_user, le_book):\n",
    "    # Applies the steps applied to the training data to the test set \n",
    "    \n",
    "    test_df[\"n_votes\"] = test_df[\"n_votes\"].apply(lambda x: max(0,x))\n",
    "    test_df[\"n_comments\"] = test_df[\"n_comments\"].apply(lambda x: max(0,x))\n",
    "    # convert label into numeric\n",
    "    test_df[\"has_spoiler\"] = test_df[\"has_spoiler\"].apply(lambda x: int(x))\n",
    "    # minMaxScaling for n_votes and n_comments features (only transform, not fit)\n",
    "    test_df[\"n_votes\"] =  mms_votes.transform(test_df[\"n_votes\"].values.reshape(-1,1))\n",
    "    test_df[\"n_comments\"] = mms_comments.transform(test_df[\"n_comments\"].values.reshape(-1,1))\n",
    "    # label encoding for user_id (to convert into numeric)\n",
    "    test_df[\"user_id\"] = le_user.transform(test_df[\"user_id\"].values.reshape(-1,1)).astype(int)\n",
    "    test_df[\"book_id\"] = le_book.transform(test_df[\"book_id\"].values.reshape(-1,1)).astype(int)\n",
    "    # scale rating feature \n",
    "    test_df[\"rating\"] = test_df[\"rating\"].apply(lambda x: x/5)\n",
    "    \n",
    "    return test_df"
   ]
  },
  {
   "cell_type": "code",
   "execution_count": 60,
   "id": "2e7a9fc8",
   "metadata": {},
   "outputs": [],
   "source": [
    "test_prep = test_preprocess(test, mms_votes, mms_comments, le_user, le_book)"
   ]
  },
  {
   "cell_type": "code",
   "execution_count": 63,
   "id": "6967a3f2",
   "metadata": {},
   "outputs": [],
   "source": [
    "train = train.reset_index(drop=True)\n",
    "test_prep = test_prep.reset_index(drop=True)"
   ]
  },
  {
   "cell_type": "code",
   "execution_count": 66,
   "id": "d4ca89cd",
   "metadata": {},
   "outputs": [],
   "source": [
    "# save train and data sets\n",
    "train.to_json(\"./data/train_preprocessed.json\")\n",
    "test_prep.to_json(\"./data/test.json\")"
   ]
  },
  {
   "cell_type": "code",
   "execution_count": 67,
   "id": "f236236a",
   "metadata": {},
   "outputs": [],
   "source": [
    "tr = pd.read_json(\"./data/train_preprocessed.json\")\n",
    "test = pd.read_json(\"./data/test.json\")"
   ]
  },
  {
   "cell_type": "code",
   "execution_count": 68,
   "id": "fee01b3b",
   "metadata": {},
   "outputs": [
    {
     "data": {
      "text/html": [
       "<div>\n",
       "<style scoped>\n",
       "    .dataframe tbody tr th:only-of-type {\n",
       "        vertical-align: middle;\n",
       "    }\n",
       "\n",
       "    .dataframe tbody tr th {\n",
       "        vertical-align: top;\n",
       "    }\n",
       "\n",
       "    .dataframe thead th {\n",
       "        text-align: right;\n",
       "    }\n",
       "</style>\n",
       "<table border=\"1\" class=\"dataframe\">\n",
       "  <thead>\n",
       "    <tr style=\"text-align: right;\">\n",
       "      <th></th>\n",
       "      <th>user_id</th>\n",
       "      <th>book_id</th>\n",
       "      <th>review_sentences</th>\n",
       "      <th>rating</th>\n",
       "      <th>timestamp</th>\n",
       "      <th>n_votes</th>\n",
       "      <th>n_comments</th>\n",
       "      <th>has_spoiler</th>\n",
       "    </tr>\n",
       "  </thead>\n",
       "  <tbody>\n",
       "    <tr>\n",
       "      <th>0</th>\n",
       "      <td>276</td>\n",
       "      <td>7462</td>\n",
       "      <td>[[0, This was just an ok read for me.], [0, Pa...</td>\n",
       "      <td>0.6</td>\n",
       "      <td>2013-03-17</td>\n",
       "      <td>0.000000</td>\n",
       "      <td>0.0</td>\n",
       "      <td>0</td>\n",
       "    </tr>\n",
       "    <tr>\n",
       "      <th>1</th>\n",
       "      <td>13721</td>\n",
       "      <td>6901</td>\n",
       "      <td>[[0, Update after finishing the trilogy:], [0,...</td>\n",
       "      <td>0.8</td>\n",
       "      <td>2014-07-27</td>\n",
       "      <td>0.014235</td>\n",
       "      <td>0.0</td>\n",
       "      <td>0</td>\n",
       "    </tr>\n",
       "    <tr>\n",
       "      <th>2</th>\n",
       "      <td>13566</td>\n",
       "      <td>8112</td>\n",
       "      <td>[[0, The Stranger You Know is the third book i...</td>\n",
       "      <td>0.6</td>\n",
       "      <td>2014-03-21</td>\n",
       "      <td>0.000000</td>\n",
       "      <td>0.0</td>\n",
       "      <td>0</td>\n",
       "    </tr>\n",
       "    <tr>\n",
       "      <th>3</th>\n",
       "      <td>15837</td>\n",
       "      <td>4119</td>\n",
       "      <td>[[0, ** spoiler alert **], [0, This was a cool...</td>\n",
       "      <td>0.8</td>\n",
       "      <td>2011-10-19</td>\n",
       "      <td>0.000000</td>\n",
       "      <td>0.0</td>\n",
       "      <td>0</td>\n",
       "    </tr>\n",
       "    <tr>\n",
       "      <th>4</th>\n",
       "      <td>16371</td>\n",
       "      <td>8260</td>\n",
       "      <td>[[0, 4.5 Stars], [0, Have you read Jay Crownov...</td>\n",
       "      <td>1.0</td>\n",
       "      <td>2014-02-23</td>\n",
       "      <td>0.003559</td>\n",
       "      <td>0.0</td>\n",
       "      <td>0</td>\n",
       "    </tr>\n",
       "  </tbody>\n",
       "</table>\n",
       "</div>"
      ],
      "text/plain": [
       "   user_id  book_id                                   review_sentences  \\\n",
       "0      276     7462  [[0, This was just an ok read for me.], [0, Pa...   \n",
       "1    13721     6901  [[0, Update after finishing the trilogy:], [0,...   \n",
       "2    13566     8112  [[0, The Stranger You Know is the third book i...   \n",
       "3    15837     4119  [[0, ** spoiler alert **], [0, This was a cool...   \n",
       "4    16371     8260  [[0, 4.5 Stars], [0, Have you read Jay Crownov...   \n",
       "\n",
       "   rating  timestamp   n_votes  n_comments  has_spoiler  \n",
       "0     0.6 2013-03-17  0.000000         0.0            0  \n",
       "1     0.8 2014-07-27  0.014235         0.0            0  \n",
       "2     0.6 2014-03-21  0.000000         0.0            0  \n",
       "3     0.8 2011-10-19  0.000000         0.0            0  \n",
       "4     1.0 2014-02-23  0.003559         0.0            0  "
      ]
     },
     "execution_count": 68,
     "metadata": {},
     "output_type": "execute_result"
    }
   ],
   "source": [
    "tr.head()"
   ]
  },
  {
   "cell_type": "code",
   "execution_count": 69,
   "id": "c161a312",
   "metadata": {},
   "outputs": [
    {
     "data": {
      "text/html": [
       "<div>\n",
       "<style scoped>\n",
       "    .dataframe tbody tr th:only-of-type {\n",
       "        vertical-align: middle;\n",
       "    }\n",
       "\n",
       "    .dataframe tbody tr th {\n",
       "        vertical-align: top;\n",
       "    }\n",
       "\n",
       "    .dataframe thead th {\n",
       "        text-align: right;\n",
       "    }\n",
       "</style>\n",
       "<table border=\"1\" class=\"dataframe\">\n",
       "  <thead>\n",
       "    <tr style=\"text-align: right;\">\n",
       "      <th></th>\n",
       "      <th>user_id</th>\n",
       "      <th>book_id</th>\n",
       "      <th>review_sentences</th>\n",
       "      <th>rating</th>\n",
       "      <th>timestamp</th>\n",
       "      <th>n_votes</th>\n",
       "      <th>n_comments</th>\n",
       "      <th>has_spoiler</th>\n",
       "    </tr>\n",
       "  </thead>\n",
       "  <tbody>\n",
       "    <tr>\n",
       "      <th>0</th>\n",
       "      <td>6423</td>\n",
       "      <td>4388</td>\n",
       "      <td>[[0, I stumbled across Miss Peregrine's Home f...</td>\n",
       "      <td>0.6</td>\n",
       "      <td>2015-05-15</td>\n",
       "      <td>0.014235</td>\n",
       "      <td>0.000000</td>\n",
       "      <td>0</td>\n",
       "    </tr>\n",
       "    <tr>\n",
       "      <th>1</th>\n",
       "      <td>16156</td>\n",
       "      <td>12060</td>\n",
       "      <td>[[0, 4 STARS], [0, I have alway loved Colleen ...</td>\n",
       "      <td>0.8</td>\n",
       "      <td>2015-11-17</td>\n",
       "      <td>0.113879</td>\n",
       "      <td>0.203540</td>\n",
       "      <td>1</td>\n",
       "    </tr>\n",
       "    <tr>\n",
       "      <th>2</th>\n",
       "      <td>10743</td>\n",
       "      <td>4640</td>\n",
       "      <td>[[0, I enjoyed this story, found it very inter...</td>\n",
       "      <td>0.8</td>\n",
       "      <td>2015-06-19</td>\n",
       "      <td>0.003559</td>\n",
       "      <td>0.000000</td>\n",
       "      <td>0</td>\n",
       "    </tr>\n",
       "    <tr>\n",
       "      <th>3</th>\n",
       "      <td>421</td>\n",
       "      <td>7927</td>\n",
       "      <td>[[0, Original review at Whatever You Can Still...</td>\n",
       "      <td>0.6</td>\n",
       "      <td>2015-05-06</td>\n",
       "      <td>0.000000</td>\n",
       "      <td>0.000000</td>\n",
       "      <td>0</td>\n",
       "    </tr>\n",
       "    <tr>\n",
       "      <th>4</th>\n",
       "      <td>10156</td>\n",
       "      <td>13012</td>\n",
       "      <td>[[0, Love this series... though I'm in absolut...</td>\n",
       "      <td>0.8</td>\n",
       "      <td>2016-10-04</td>\n",
       "      <td>0.049822</td>\n",
       "      <td>0.017699</td>\n",
       "      <td>0</td>\n",
       "    </tr>\n",
       "  </tbody>\n",
       "</table>\n",
       "</div>"
      ],
      "text/plain": [
       "   user_id  book_id                                   review_sentences  \\\n",
       "0     6423     4388  [[0, I stumbled across Miss Peregrine's Home f...   \n",
       "1    16156    12060  [[0, 4 STARS], [0, I have alway loved Colleen ...   \n",
       "2    10743     4640  [[0, I enjoyed this story, found it very inter...   \n",
       "3      421     7927  [[0, Original review at Whatever You Can Still...   \n",
       "4    10156    13012  [[0, Love this series... though I'm in absolut...   \n",
       "\n",
       "   rating  timestamp   n_votes  n_comments  has_spoiler  \n",
       "0     0.6 2015-05-15  0.014235    0.000000            0  \n",
       "1     0.8 2015-11-17  0.113879    0.203540            1  \n",
       "2     0.8 2015-06-19  0.003559    0.000000            0  \n",
       "3     0.6 2015-05-06  0.000000    0.000000            0  \n",
       "4     0.8 2016-10-04  0.049822    0.017699            0  "
      ]
     },
     "execution_count": 69,
     "metadata": {},
     "output_type": "execute_result"
    }
   ],
   "source": [
    "test.head()"
   ]
  },
  {
   "cell_type": "code",
   "execution_count": 42,
   "id": "e477f0bf",
   "metadata": {},
   "outputs": [],
   "source": [
    "test_prep = test_prep.reset_index(drop=True)"
   ]
  },
  {
   "cell_type": "code",
   "execution_count": 43,
   "id": "553989d9",
   "metadata": {},
   "outputs": [
    {
     "data": {
      "text/html": [
       "<div>\n",
       "<style scoped>\n",
       "    .dataframe tbody tr th:only-of-type {\n",
       "        vertical-align: middle;\n",
       "    }\n",
       "\n",
       "    .dataframe tbody tr th {\n",
       "        vertical-align: top;\n",
       "    }\n",
       "\n",
       "    .dataframe thead th {\n",
       "        text-align: right;\n",
       "    }\n",
       "</style>\n",
       "<table border=\"1\" class=\"dataframe\">\n",
       "  <thead>\n",
       "    <tr style=\"text-align: right;\">\n",
       "      <th></th>\n",
       "      <th>index</th>\n",
       "      <th>user_id</th>\n",
       "      <th>book_id</th>\n",
       "      <th>review_sentences</th>\n",
       "      <th>rating</th>\n",
       "      <th>timestamp</th>\n",
       "      <th>n_votes</th>\n",
       "      <th>n_comments</th>\n",
       "      <th>has_spoiler</th>\n",
       "    </tr>\n",
       "  </thead>\n",
       "  <tbody>\n",
       "    <tr>\n",
       "      <th>0</th>\n",
       "      <td>516192</td>\n",
       "      <td>7404</td>\n",
       "      <td>8422</td>\n",
       "      <td>[[0, Woooh- So, okay.], [0, I thought A Court ...</td>\n",
       "      <td>0.8</td>\n",
       "      <td>2016-09-18</td>\n",
       "      <td>0.049822</td>\n",
       "      <td>0.000000</td>\n",
       "      <td>0</td>\n",
       "    </tr>\n",
       "    <tr>\n",
       "      <th>1</th>\n",
       "      <td>311831</td>\n",
       "      <td>6996</td>\n",
       "      <td>4475</td>\n",
       "      <td>[[0, WHAT THE FU....!?!?], [0, HOW?], [0, I'm ...</td>\n",
       "      <td>1.0</td>\n",
       "      <td>2015-02-07</td>\n",
       "      <td>0.000000</td>\n",
       "      <td>0.000000</td>\n",
       "      <td>0</td>\n",
       "    </tr>\n",
       "    <tr>\n",
       "      <th>2</th>\n",
       "      <td>205297</td>\n",
       "      <td>2858</td>\n",
       "      <td>3439</td>\n",
       "      <td>[[0, You can guess from the book synopsis that...</td>\n",
       "      <td>0.8</td>\n",
       "      <td>2014-07-26</td>\n",
       "      <td>0.000000</td>\n",
       "      <td>0.000000</td>\n",
       "      <td>0</td>\n",
       "    </tr>\n",
       "    <tr>\n",
       "      <th>3</th>\n",
       "      <td>611323</td>\n",
       "      <td>15455</td>\n",
       "      <td>6890</td>\n",
       "      <td>[[0, This book first appeared on Thoughts and ...</td>\n",
       "      <td>0.8</td>\n",
       "      <td>2015-06-27</td>\n",
       "      <td>0.007117</td>\n",
       "      <td>0.017699</td>\n",
       "      <td>0</td>\n",
       "    </tr>\n",
       "    <tr>\n",
       "      <th>4</th>\n",
       "      <td>16911</td>\n",
       "      <td>18323</td>\n",
       "      <td>8129</td>\n",
       "      <td>[[0, ***THIS REVIEW WILL CONTAIN MAJOR SPOILER...</td>\n",
       "      <td>1.0</td>\n",
       "      <td>2013-07-07</td>\n",
       "      <td>0.000000</td>\n",
       "      <td>0.000000</td>\n",
       "      <td>1</td>\n",
       "    </tr>\n",
       "  </tbody>\n",
       "</table>\n",
       "</div>"
      ],
      "text/plain": [
       "    index  user_id  book_id  \\\n",
       "0  516192     7404     8422   \n",
       "1  311831     6996     4475   \n",
       "2  205297     2858     3439   \n",
       "3  611323    15455     6890   \n",
       "4   16911    18323     8129   \n",
       "\n",
       "                                    review_sentences  rating  timestamp  \\\n",
       "0  [[0, Woooh- So, okay.], [0, I thought A Court ...     0.8 2016-09-18   \n",
       "1  [[0, WHAT THE FU....!?!?], [0, HOW?], [0, I'm ...     1.0 2015-02-07   \n",
       "2  [[0, You can guess from the book synopsis that...     0.8 2014-07-26   \n",
       "3  [[0, This book first appeared on Thoughts and ...     0.8 2015-06-27   \n",
       "4  [[0, ***THIS REVIEW WILL CONTAIN MAJOR SPOILER...     1.0 2013-07-07   \n",
       "\n",
       "    n_votes  n_comments  has_spoiler  \n",
       "0  0.049822    0.000000            0  \n",
       "1  0.000000    0.000000            0  \n",
       "2  0.000000    0.000000            0  \n",
       "3  0.007117    0.017699            0  \n",
       "4  0.000000    0.000000            1  "
      ]
     },
     "execution_count": 43,
     "metadata": {},
     "output_type": "execute_result"
    }
   ],
   "source": [
    "test_prep.head()"
   ]
  },
  {
   "cell_type": "code",
   "execution_count": 44,
   "id": "cb67815d",
   "metadata": {},
   "outputs": [
    {
     "data": {
      "text/html": [
       "<div>\n",
       "<style scoped>\n",
       "    .dataframe tbody tr th:only-of-type {\n",
       "        vertical-align: middle;\n",
       "    }\n",
       "\n",
       "    .dataframe tbody tr th {\n",
       "        vertical-align: top;\n",
       "    }\n",
       "\n",
       "    .dataframe thead th {\n",
       "        text-align: right;\n",
       "    }\n",
       "</style>\n",
       "<table border=\"1\" class=\"dataframe\">\n",
       "  <thead>\n",
       "    <tr style=\"text-align: right;\">\n",
       "      <th></th>\n",
       "      <th>user_id</th>\n",
       "      <th>book_id</th>\n",
       "      <th>review_sentences</th>\n",
       "      <th>rating</th>\n",
       "      <th>timestamp</th>\n",
       "      <th>n_votes</th>\n",
       "      <th>n_comments</th>\n",
       "      <th>has_spoiler</th>\n",
       "    </tr>\n",
       "  </thead>\n",
       "  <tbody>\n",
       "    <tr>\n",
       "      <th>0</th>\n",
       "      <td>8842281e1d1347389f2ab93d60773d4d</td>\n",
       "      <td>18245960</td>\n",
       "      <td>[[0, This is a special book.], [0, It started ...</td>\n",
       "      <td>5</td>\n",
       "      <td>2017-08-30</td>\n",
       "      <td>28</td>\n",
       "      <td>1</td>\n",
       "      <td>True</td>\n",
       "    </tr>\n",
       "    <tr>\n",
       "      <th>1</th>\n",
       "      <td>8842281e1d1347389f2ab93d60773d4d</td>\n",
       "      <td>28684704</td>\n",
       "      <td>[[0, A fun, fast paced science fiction thrille...</td>\n",
       "      <td>3</td>\n",
       "      <td>2017-03-20</td>\n",
       "      <td>22</td>\n",
       "      <td>0</td>\n",
       "      <td>True</td>\n",
       "    </tr>\n",
       "    <tr>\n",
       "      <th>2</th>\n",
       "      <td>8842281e1d1347389f2ab93d60773d4d</td>\n",
       "      <td>25884323</td>\n",
       "      <td>[[0, I really enjoyed this book, and there is ...</td>\n",
       "      <td>4</td>\n",
       "      <td>2016-04-25</td>\n",
       "      <td>9</td>\n",
       "      <td>1</td>\n",
       "      <td>True</td>\n",
       "    </tr>\n",
       "    <tr>\n",
       "      <th>3</th>\n",
       "      <td>8842281e1d1347389f2ab93d60773d4d</td>\n",
       "      <td>19398490</td>\n",
       "      <td>[[0, A beautiful story.], [0, It is rare to en...</td>\n",
       "      <td>4</td>\n",
       "      <td>2016-09-20</td>\n",
       "      <td>35</td>\n",
       "      <td>5</td>\n",
       "      <td>False</td>\n",
       "    </tr>\n",
       "    <tr>\n",
       "      <th>4</th>\n",
       "      <td>8842281e1d1347389f2ab93d60773d4d</td>\n",
       "      <td>22816087</td>\n",
       "      <td>[[0, I love Stephenson - and this was another ...</td>\n",
       "      <td>5</td>\n",
       "      <td>2016-12-14</td>\n",
       "      <td>40</td>\n",
       "      <td>6</td>\n",
       "      <td>False</td>\n",
       "    </tr>\n",
       "  </tbody>\n",
       "</table>\n",
       "</div>"
      ],
      "text/plain": [
       "                            user_id   book_id  \\\n",
       "0  8842281e1d1347389f2ab93d60773d4d  18245960   \n",
       "1  8842281e1d1347389f2ab93d60773d4d  28684704   \n",
       "2  8842281e1d1347389f2ab93d60773d4d  25884323   \n",
       "3  8842281e1d1347389f2ab93d60773d4d  19398490   \n",
       "4  8842281e1d1347389f2ab93d60773d4d  22816087   \n",
       "\n",
       "                                    review_sentences  rating  timestamp  \\\n",
       "0  [[0, This is a special book.], [0, It started ...       5 2017-08-30   \n",
       "1  [[0, A fun, fast paced science fiction thrille...       3 2017-03-20   \n",
       "2  [[0, I really enjoyed this book, and there is ...       4 2016-04-25   \n",
       "3  [[0, A beautiful story.], [0, It is rare to en...       4 2016-09-20   \n",
       "4  [[0, I love Stephenson - and this was another ...       5 2016-12-14   \n",
       "\n",
       "   n_votes  n_comments  has_spoiler  \n",
       "0       28           1         True  \n",
       "1       22           0         True  \n",
       "2        9           1         True  \n",
       "3       35           5        False  \n",
       "4       40           6        False  "
      ]
     },
     "execution_count": 44,
     "metadata": {},
     "output_type": "execute_result"
    }
   ],
   "source": [
    "reduced_df.head()"
   ]
  },
  {
   "cell_type": "code",
   "execution_count": null,
   "id": "cdfcf626",
   "metadata": {},
   "outputs": [],
   "source": []
  }
 ],
 "metadata": {
  "kernelspec": {
   "display_name": "Python 3 (ipykernel)",
   "language": "python",
   "name": "python3"
  },
  "language_info": {
   "codemirror_mode": {
    "name": "ipython",
    "version": 3
   },
   "file_extension": ".py",
   "mimetype": "text/x-python",
   "name": "python",
   "nbconvert_exporter": "python",
   "pygments_lexer": "ipython3",
   "version": "3.11.3"
  }
 },
 "nbformat": 4,
 "nbformat_minor": 5
}
