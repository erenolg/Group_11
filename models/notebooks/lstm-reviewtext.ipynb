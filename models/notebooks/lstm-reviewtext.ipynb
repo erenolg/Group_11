{
  "cells": [
    {
      "cell_type": "markdown",
      "id": "42029268-e12c-45f9-883e-18c7300420a2",
      "metadata": {
        "id": "42029268-e12c-45f9-883e-18c7300420a2"
      },
      "source": [
        "## LSTM Model for parsed at sentence level text (Melisa)"
      ]
    },
    {
      "cell_type": "code",
      "execution_count": 1,
      "id": "QzT-bX-5TbPJ",
      "metadata": {
        "colab": {
          "base_uri": "https://localhost:8080/"
        },
        "id": "QzT-bX-5TbPJ",
        "outputId": "e98a9b79-c0cf-4635-afed-bacde9d14051"
      },
      "outputs": [
        {
          "output_type": "stream",
          "name": "stdout",
          "text": [
            "Mounted at /content/drive\n"
          ]
        }
      ],
      "source": [
        "from google.colab import drive\n",
        "drive.mount('/content/drive')"
      ]
    },
    {
      "cell_type": "code",
      "execution_count": 10,
      "id": "4f77f3eb-432c-410a-ae7e-a99a5c537a74",
      "metadata": {
        "id": "4f77f3eb-432c-410a-ae7e-a99a5c537a74"
      },
      "outputs": [],
      "source": [
        "\n",
        "np.random.seed(11)\n",
        "\n",
        "\n",
        "\n",
        "import torch\n",
        "import torch.nn as nn\n",
        "import torch.optim as optim\n",
        "from torch.utils.data import DataLoader, TensorDataset\n",
        "\n"
      ]
    },
    {
      "cell_type": "code",
      "execution_count": 9,
      "id": "f3ec2530-6868-456c-94a3-4afb9af61fa7",
      "metadata": {
        "id": "f3ec2530-6868-456c-94a3-4afb9af61fa7"
      },
      "outputs": [],
      "source": [
        "\n",
        "from tensorflow.keras.models import Sequential\n",
        "from tensorflow.keras.layers import Embedding, LSTM, Bidirectional, Dense, Dropout, SpatialDropout1D, BatchNormalization\n",
        "from tensorflow.keras.metrics import Precision, Recall\n",
        "from sklearn.metrics import f1_score"
      ]
    },
    {
      "cell_type": "code",
      "execution_count": 11,
      "id": "N4pNvymc2UG8",
      "metadata": {
        "id": "N4pNvymc2UG8"
      },
      "outputs": [],
      "source": [
        "import sys\n",
        "sys.path.append('/content/drive/MyDrive/dataminingproje/source')\n",
        "import lstm_final as lf\n"
      ]
    },
    {
      "cell_type": "code",
      "execution_count": 12,
      "id": "fbzh2WMp255E",
      "metadata": {
        "id": "fbzh2WMp255E",
        "colab": {
          "base_uri": "https://localhost:8080/"
        },
        "outputId": "79fb64bb-2cd3-4550-916b-273b2cd17548"
      },
      "outputs": [
        {
          "output_type": "stream",
          "name": "stdout",
          "text": [
            "Prepared Data\n",
            "Prepared embeddings matrix\n"
          ]
        }
      ],
      "source": [
        "\"\"\"\n",
        "train_path = \"../data/train_preprocessed.json\"\n",
        "test_path = \"../data/test.json\"\n",
        "embeddings_path = \"../data/glove.6B.50d.txt\"\n",
        "\"\"\"\n",
        "\n",
        "train_path = \"/content/drive/MyDrive/dataminingproje/data/train_preprocessed.json\"\n",
        "test_path = \"/content/drive/MyDrive/dataminingproje/data/test.json\"\n",
        "embeddings_path = \"/content/drive/MyDrive/dataminingproje/data/glove.6B.50d.txt\"\n",
        "\n",
        "max_words = 4000\n",
        "embedding_dim = 50\n",
        "\n",
        "train, train_l, test, test_l, tokenizer, max_seq_length = lf.read_dataset(train_path, test_path, max_words)\n",
        "print(\"Prepared Data\")\n",
        "embedding_matrix = lf.embeddings(embeddings_path, embedding_dim, tokenizer, max_words)\n",
        "print(\"Prepared embeddings matrix\")"
      ]
    },
    {
      "cell_type": "code",
      "execution_count": 16,
      "id": "32079135-0139-4b86-a6a1-68cbb301dce9",
      "metadata": {
        "id": "32079135-0139-4b86-a6a1-68cbb301dce9"
      },
      "outputs": [],
      "source": [
        "dataset = tf.data.Dataset.from_tensor_slices((train, train_l))\n",
        "\n",
        "# Shuffle and batch the dataset\n",
        "batch_size = 256\n",
        "buffer_size = 5000  # Set a buffer size for shuffling\n",
        "dataset = dataset.shuffle(buffer_size).batch(batch_size).prefetch(buffer_size=tf.data.AUTOTUNE)"
      ]
    },
    {
      "cell_type": "code",
      "execution_count": 17,
      "id": "ff26456b-c96c-4ba3-a6ba-21f2267994b1",
      "metadata": {
        "id": "ff26456b-c96c-4ba3-a6ba-21f2267994b1"
      },
      "outputs": [],
      "source": [
        "model = Sequential()\n",
        "model.add(Embedding(input_dim=max_words, output_dim=embedding_dim, weights=[embedding_matrix], input_length=max_seq_length, trainable=False))\n",
        "model.add(Bidirectional(LSTM(64, return_sequences=True)))\n",
        "model.add(BatchNormalization())\n",
        "model.add(LSTM(32, return_sequences=True))\n",
        "model.add(LSTM(16))\n",
        "model.add(BatchNormalization())\n",
        "model.add(Dense(64, activation='relu'))\n",
        "model.add(Dense(1, activation='sigmoid'))\n",
        "\n",
        "#TODO: BIDIRECTIONAL VS LSTM DENE, BATCHNORMALİZATION OLMADAN DA DENE, DENSE LAYER ARTTIRMAYI DENE"
      ]
    },
    {
      "cell_type": "code",
      "execution_count": null,
      "id": "cafec01d-5781-4192-8f65-da938d806b14",
      "metadata": {
        "id": "cafec01d-5781-4192-8f65-da938d806b14"
      },
      "outputs": [],
      "source": [
        "model.compile(optimizer='adam', loss='binary_crossentropy', metrics=['accuracy', Precision(), Recall()])\n",
        "model.fit(train, train_l, epochs=6, batch_size=64)"
      ]
    },
    {
      "cell_type": "code",
      "execution_count": 23,
      "id": "9e5e0c75-1257-47d9-858f-b0a869ac671f",
      "metadata": {
        "colab": {
          "base_uri": "https://localhost:8080/"
        },
        "id": "9e5e0c75-1257-47d9-858f-b0a869ac671f",
        "outputId": "7aa17bb9-b81d-44a5-8d9d-42d3bb0ea0aa"
      },
      "outputs": [
        {
          "output_type": "stream",
          "name": "stdout",
          "text": [
            "Model: \"sequential_1\"\n",
            "_________________________________________________________________\n",
            " Layer (type)                Output Shape              Param #   \n",
            "=================================================================\n",
            " embedding_1 (Embedding)     (None, 2619, 50)          200000    \n",
            "                                                                 \n",
            " bidirectional_1 (Bidirecti  (None, 2619, 128)         58880     \n",
            " onal)                                                           \n",
            "                                                                 \n",
            " batch_normalization_2 (Bat  (None, 2619, 128)         512       \n",
            " chNormalization)                                                \n",
            "                                                                 \n",
            " lstm_4 (LSTM)               (None, 2619, 32)          20608     \n",
            "                                                                 \n",
            " lstm_5 (LSTM)               (None, 16)                3136      \n",
            "                                                                 \n",
            " batch_normalization_3 (Bat  (None, 16)                64        \n",
            " chNormalization)                                                \n",
            "                                                                 \n",
            " dense_2 (Dense)             (None, 64)                1088      \n",
            "                                                                 \n",
            " dense_3 (Dense)             (None, 1)                 65        \n",
            "                                                                 \n",
            "=================================================================\n",
            "Total params: 284353 (1.08 MB)\n",
            "Trainable params: 84065 (328.38 KB)\n",
            "Non-trainable params: 200288 (782.38 KB)\n",
            "_________________________________________________________________\n"
          ]
        }
      ],
      "source": [
        "model.summary()"
      ]
    },
    {
      "cell_type": "code",
      "execution_count": 24,
      "id": "703d976d-fd6f-431b-81fa-36a25b429d47",
      "metadata": {
        "id": "703d976d-fd6f-431b-81fa-36a25b429d47"
      },
      "outputs": [],
      "source": [
        "test_loss, test_accuracy, test_precision, test_recall = model.evaluate(test, test_l, verbose=0)"
      ]
    },
    {
      "cell_type": "code",
      "execution_count": 25,
      "id": "70d4735f-ccdc-4957-8194-9bd748e4aa34",
      "metadata": {
        "colab": {
          "base_uri": "https://localhost:8080/"
        },
        "id": "70d4735f-ccdc-4957-8194-9bd748e4aa34",
        "outputId": "f4ab002d-ca92-4ccb-bf93-5544e2328fb2"
      },
      "outputs": [
        {
          "output_type": "stream",
          "name": "stdout",
          "text": [
            "Test Accuracy: 0.7667297720909119\n",
            "Test Precision: 0.7888904213905334\n",
            "Test Recall: 0.43653225898742676\n",
            "Test F1: 0.5620527892252423\n"
          ]
        }
      ],
      "source": [
        "print(f\"Test Accuracy: {test_accuracy}\")\n",
        "print(f\"Test Precision: {test_precision}\")\n",
        "print(f\"Test Recall: {test_recall}\")\n",
        "print(f\"Test F1: {2*test_recall*test_precision / (test_recall+test_precision)}\")"
      ]
    },
    {
      "cell_type": "code",
      "execution_count": null,
      "id": "6a94ac8c-10d7-443f-b421-f64ea3b72ebe",
      "metadata": {
        "colab": {
          "base_uri": "https://localhost:8080/"
        },
        "id": "6a94ac8c-10d7-443f-b421-f64ea3b72ebe",
        "outputId": "67840d2a-59e5-4dd1-c2ee-d60780d38592"
      },
      "outputs": [
        {
          "name": "stdout",
          "output_type": "stream",
          "text": [
            "469/469 [==============================] - 53s 111ms/step\n"
          ]
        }
      ],
      "source": [
        "predictions = model.predict(test)"
      ]
    },
    {
      "cell_type": "code",
      "execution_count": null,
      "id": "8ffd9c6b-ff49-4152-a464-c5f19d97b513",
      "metadata": {
        "id": "8ffd9c6b-ff49-4152-a464-c5f19d97b513"
      },
      "outputs": [],
      "source": [
        "model.save_weights(\"trained_model_lstm\", save_format=\"h5\")\n"
      ]
    },
    {
      "cell_type": "code",
      "execution_count": null,
      "id": "e0edce70-b917-4122-92e2-f076cd963acc",
      "metadata": {
        "colab": {
          "base_uri": "https://localhost:8080/",
          "height": 425
        },
        "id": "e0edce70-b917-4122-92e2-f076cd963acc",
        "outputId": "ccb15cc4-b7e1-4458-d767-ea8c608f39f8"
      },
      "outputs": [
        {
          "ename": "ValueError",
          "evalue": "ignored",
          "output_type": "error",
          "traceback": [
            "\u001b[0;31m---------------------------------------------------------------------------\u001b[0m",
            "\u001b[0;31mValueError\u001b[0m                                Traceback (most recent call last)",
            "\u001b[0;32m<ipython-input-25-025519a8dde4>\u001b[0m in \u001b[0;36m<cell line: 12>\u001b[0;34m()\u001b[0m\n\u001b[1;32m     10\u001b[0m     \u001b[0;32mreturn\u001b[0m \u001b[0mmodel\u001b[0m\u001b[0;34m\u001b[0m\u001b[0;34m\u001b[0m\u001b[0m\n\u001b[1;32m     11\u001b[0m \u001b[0;34m\u001b[0m\u001b[0m\n\u001b[0;32m---> 12\u001b[0;31m \u001b[0mmodel\u001b[0m \u001b[0;34m=\u001b[0m \u001b[0mcreateLSTMModel\u001b[0m\u001b[0;34m(\u001b[0m\u001b[0;34m)\u001b[0m\u001b[0;34m\u001b[0m\u001b[0;34m\u001b[0m\u001b[0m\n\u001b[0m\u001b[1;32m     13\u001b[0m \u001b[0mmodel\u001b[0m\u001b[0;34m.\u001b[0m\u001b[0mload_weights\u001b[0m\u001b[0;34m(\u001b[0m\u001b[0;34m\"trained_model_lstm\"\u001b[0m\u001b[0;34m)\u001b[0m \u001b[0;31m# bana attığın train edilmiş model\u001b[0m\u001b[0;34m\u001b[0m\u001b[0;34m\u001b[0m\u001b[0m\n\u001b[1;32m     14\u001b[0m pretrained_model = tf.keras.Model(\n",
            "\u001b[0;32m<ipython-input-25-025519a8dde4>\u001b[0m in \u001b[0;36mcreateLSTMModel\u001b[0;34m()\u001b[0m\n\u001b[1;32m      3\u001b[0m \u001b[0;32mdef\u001b[0m \u001b[0mcreateLSTMModel\u001b[0m\u001b[0;34m(\u001b[0m\u001b[0;34m)\u001b[0m\u001b[0;34m:\u001b[0m\u001b[0;34m\u001b[0m\u001b[0;34m\u001b[0m\u001b[0m\n\u001b[1;32m      4\u001b[0m     \u001b[0memb_input\u001b[0m \u001b[0;34m=\u001b[0m \u001b[0mInput\u001b[0m\u001b[0;34m(\u001b[0m\u001b[0mshape\u001b[0m\u001b[0;34m=\u001b[0m\u001b[0;34m(\u001b[0m\u001b[0;36m1\u001b[0m\u001b[0;34m,\u001b[0m\u001b[0;34m)\u001b[0m\u001b[0;34m,\u001b[0m \u001b[0mname\u001b[0m\u001b[0;34m=\u001b[0m\u001b[0;34m\"emb\"\u001b[0m\u001b[0;34m)\u001b[0m\u001b[0;34m\u001b[0m\u001b[0;34m\u001b[0m\u001b[0m\n\u001b[0;32m----> 5\u001b[0;31m     \u001b[0membedding\u001b[0m \u001b[0;34m=\u001b[0m \u001b[0mlayers\u001b[0m\u001b[0;34m.\u001b[0m\u001b[0mEmbedding\u001b[0m\u001b[0;34m(\u001b[0m\u001b[0minput_dim\u001b[0m\u001b[0;34m=\u001b[0m\u001b[0;36m3000\u001b[0m\u001b[0;34m,\u001b[0m \u001b[0moutput_dim\u001b[0m\u001b[0;34m=\u001b[0m\u001b[0;36m50\u001b[0m\u001b[0;34m,\u001b[0m \u001b[0minput_length\u001b[0m\u001b[0;34m=\u001b[0m\u001b[0;36m2048\u001b[0m\u001b[0;34m,\u001b[0m\u001b[0mweights\u001b[0m\u001b[0;34m=\u001b[0m\u001b[0;34m[\u001b[0m\u001b[0membedding_matrix\u001b[0m\u001b[0;34m]\u001b[0m\u001b[0;34m,\u001b[0m \u001b[0mtrainable\u001b[0m\u001b[0;34m=\u001b[0m\u001b[0;32mFalse\u001b[0m\u001b[0;34m)\u001b[0m\u001b[0;34m(\u001b[0m\u001b[0memb_input\u001b[0m\u001b[0;34m)\u001b[0m\u001b[0;34m\u001b[0m\u001b[0;34m\u001b[0m\u001b[0m\n\u001b[0m\u001b[1;32m      6\u001b[0m     \u001b[0mlstm1\u001b[0m \u001b[0;34m=\u001b[0m \u001b[0mlayers\u001b[0m\u001b[0;34m.\u001b[0m\u001b[0mLSTM\u001b[0m\u001b[0;34m(\u001b[0m\u001b[0;36m64\u001b[0m\u001b[0;34m,\u001b[0m \u001b[0mreturn_sequences\u001b[0m\u001b[0;34m=\u001b[0m\u001b[0;32mTrue\u001b[0m\u001b[0;34m)\u001b[0m\u001b[0;34m(\u001b[0m\u001b[0membedding\u001b[0m\u001b[0;34m)\u001b[0m\u001b[0;34m\u001b[0m\u001b[0;34m\u001b[0m\u001b[0m\n\u001b[1;32m      7\u001b[0m     \u001b[0mlstm2\u001b[0m \u001b[0;34m=\u001b[0m \u001b[0mlayers\u001b[0m\u001b[0;34m.\u001b[0m\u001b[0mLSTM\u001b[0m\u001b[0;34m(\u001b[0m\u001b[0;36m16\u001b[0m\u001b[0;34m)\u001b[0m\u001b[0;34m(\u001b[0m\u001b[0mlstm1\u001b[0m\u001b[0;34m)\u001b[0m\u001b[0;34m\u001b[0m\u001b[0;34m\u001b[0m\u001b[0m\n",
            "\u001b[0;32m/usr/local/lib/python3.10/dist-packages/keras/src/utils/traceback_utils.py\u001b[0m in \u001b[0;36merror_handler\u001b[0;34m(*args, **kwargs)\u001b[0m\n\u001b[1;32m     68\u001b[0m             \u001b[0;31m# To get the full stack trace, call:\u001b[0m\u001b[0;34m\u001b[0m\u001b[0;34m\u001b[0m\u001b[0m\n\u001b[1;32m     69\u001b[0m             \u001b[0;31m# `tf.debugging.disable_traceback_filtering()`\u001b[0m\u001b[0;34m\u001b[0m\u001b[0;34m\u001b[0m\u001b[0m\n\u001b[0;32m---> 70\u001b[0;31m             \u001b[0;32mraise\u001b[0m \u001b[0me\u001b[0m\u001b[0;34m.\u001b[0m\u001b[0mwith_traceback\u001b[0m\u001b[0;34m(\u001b[0m\u001b[0mfiltered_tb\u001b[0m\u001b[0;34m)\u001b[0m \u001b[0;32mfrom\u001b[0m \u001b[0;32mNone\u001b[0m\u001b[0;34m\u001b[0m\u001b[0;34m\u001b[0m\u001b[0m\n\u001b[0m\u001b[1;32m     71\u001b[0m         \u001b[0;32mfinally\u001b[0m\u001b[0;34m:\u001b[0m\u001b[0;34m\u001b[0m\u001b[0;34m\u001b[0m\u001b[0m\n\u001b[1;32m     72\u001b[0m             \u001b[0;32mdel\u001b[0m \u001b[0mfiltered_tb\u001b[0m\u001b[0;34m\u001b[0m\u001b[0;34m\u001b[0m\u001b[0m\n",
            "\u001b[0;32m/usr/local/lib/python3.10/dist-packages/keras/src/engine/base_layer.py\u001b[0m in \u001b[0;36mset_weights\u001b[0;34m(self, weights)\u001b[0m\n\u001b[1;32m   1820\u001b[0m                 \u001b[0mref_shape\u001b[0m \u001b[0;34m=\u001b[0m \u001b[0mparam\u001b[0m\u001b[0;34m.\u001b[0m\u001b[0mshape\u001b[0m\u001b[0;34m\u001b[0m\u001b[0;34m\u001b[0m\u001b[0m\n\u001b[1;32m   1821\u001b[0m                 \u001b[0;32mif\u001b[0m \u001b[0;32mnot\u001b[0m \u001b[0mref_shape\u001b[0m\u001b[0;34m.\u001b[0m\u001b[0mis_compatible_with\u001b[0m\u001b[0;34m(\u001b[0m\u001b[0mweight_shape\u001b[0m\u001b[0;34m)\u001b[0m\u001b[0;34m:\u001b[0m\u001b[0;34m\u001b[0m\u001b[0;34m\u001b[0m\u001b[0m\n\u001b[0;32m-> 1822\u001b[0;31m                     raise ValueError(\n\u001b[0m\u001b[1;32m   1823\u001b[0m                         \u001b[0;34mf\"Layer {self.name} weight shape {ref_shape} \"\u001b[0m\u001b[0;34m\u001b[0m\u001b[0;34m\u001b[0m\u001b[0m\n\u001b[1;32m   1824\u001b[0m                         \u001b[0;34m\"is not compatible with provided weight \"\u001b[0m\u001b[0;34m\u001b[0m\u001b[0;34m\u001b[0m\u001b[0m\n",
            "\u001b[0;31mValueError\u001b[0m: Layer embedding_1 weight shape (3000, 50) is not compatible with provided weight shape (4000, 50)."
          ]
        }
      ],
      "source": [
        "from tensorflow.keras import layers, Input, Model\n",
        "# RANDOM FORESTA FEEDLEMEK İÇİN\n",
        "def createLSTMModel():\n",
        "    emb_input = Input(shape=(1,), name=\"emb\")\n",
        "    embedding = layers.Embedding(input_dim=4000, output_dim=50, input_length=2048,weights=[embedding_matrix], trainable=False)(emb_input)\n",
        "    lstm1 = layers.LSTM(64, return_sequences=True)(embedding)\n",
        "    lstm2 = layers.LSTM(16)(lstm1)\n",
        "    out = layers.Dense(1, activation=\"sigmoid\")(lstm2)\n",
        "    model = Model(inputs=emb_input, outputs=out)\n",
        "    return model\n",
        "\n",
        "model = createLSTMModel()\n",
        "model.load_weights(\"trained_model_lstm\") # bana attığın train edilmiş model\n",
        "pretrained_model = tf.keras.Model(\n",
        "    inputs=model.inputs,\n",
        "    outputs=model.layers[-2].output\n",
        ")\n",
        "\n",
        "X_test = padded_sequences  # train datası\n",
        "preds = pretrained_model.predict(X_test)"
      ]
    },
    {
      "cell_type": "code",
      "execution_count": null,
      "id": "7e7cf5aa-d948-4be3-8b21-3889d00a2d10",
      "metadata": {
        "id": "7e7cf5aa-d948-4be3-8b21-3889d00a2d10"
      },
      "outputs": [],
      "source": [
        "preds_np = np.array(preds)\n",
        "np.save('lstm-preds.npy', preds_np)"
      ]
    },
    {
      "cell_type": "markdown",
      "id": "1305a8d8-b1a2-4f99-a39c-e89d4b58666c",
      "metadata": {
        "id": "1305a8d8-b1a2-4f99-a39c-e89d4b58666c"
      },
      "source": []
    }
  ],
  "metadata": {
    "accelerator": "GPU",
    "colab": {
      "gpuType": "T4",
      "provenance": []
    },
    "kernelspec": {
      "display_name": "Python 3",
      "name": "python3"
    },
    "language_info": {
      "codemirror_mode": {
        "name": "ipython",
        "version": 3
      },
      "file_extension": ".py",
      "mimetype": "text/x-python",
      "name": "python",
      "nbconvert_exporter": "python",
      "pygments_lexer": "ipython3",
      "version": "3.8.8"
    }
  },
  "nbformat": 4,
  "nbformat_minor": 5
}