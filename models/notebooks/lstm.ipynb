{
  "cells": [
    {
      "cell_type": "markdown",
      "id": "42029268-e12c-45f9-883e-18c7300420a2",
      "metadata": {
        "id": "42029268-e12c-45f9-883e-18c7300420a2"
      },
      "source": [
        "## LSTM Model for parsed at sentence level text (Melisa)"
      ]
    },
    {
      "cell_type": "code",
      "execution_count": 1,
      "id": "QzT-bX-5TbPJ",
      "metadata": {
        "id": "QzT-bX-5TbPJ",
        "colab": {
          "base_uri": "https://localhost:8080/"
        },
        "outputId": "c783d318-b8cc-423c-fea6-86dce4f44a1f"
      },
      "outputs": [
        {
          "output_type": "stream",
          "name": "stdout",
          "text": [
            "Mounted at /content/drive\n"
          ]
        }
      ],
      "source": [
        "from google.colab import drive\n",
        "drive.mount('/content/drive')"
      ]
    },
    {
      "cell_type": "code",
      "execution_count": 2,
      "id": "N4pNvymc2UG8",
      "metadata": {
        "id": "N4pNvymc2UG8"
      },
      "outputs": [],
      "source": [
        "import sys\n",
        "sys.path.append('/content/drive/MyDrive/dataminingproje/source')\n",
        "import utils\n",
        "import models as md"
      ]
    },
    {
      "cell_type": "code",
      "execution_count": 32,
      "id": "4f77f3eb-432c-410a-ae7e-a99a5c537a74",
      "metadata": {
        "id": "4f77f3eb-432c-410a-ae7e-a99a5c537a74"
      },
      "outputs": [],
      "source": [
        "import pandas as pd\n",
        "import numpy as np\n",
        "import tensorflow as tf\n",
        "from tensorflow.keras.models import Sequential\n",
        "from tensorflow.keras.layers import Embedding, LSTM, Bidirectional, Dense, Dropout, SpatialDropout1D, BatchNormalization,Conv1D, GlobalMaxPooling1D\n",
        "from tensorflow.keras.metrics import Precision, Recall\n",
        "from tensorflow.keras import regularizers\n",
        "from tensorflow.keras.optimizers import Adam\n",
        "from tensorflow.keras.callbacks import LearningRateScheduler\n",
        "from sklearn.utils.class_weight import compute_class_weight\n",
        "from sklearn.metrics import accuracy_score, precision_score, recall_score,f1_score,confusion_matrix, roc_auc_score, roc_curve, auc\n",
        "from sklearn.model_selection import StratifiedKFold\n",
        "\n",
        "np.random.seed(11)"
      ]
    },
    {
      "cell_type": "markdown",
      "source": [
        "# **Prepare Dataset**\n"
      ],
      "metadata": {
        "id": "tK6Man7cz9Xd"
      },
      "id": "tK6Man7cz9Xd"
    },
    {
      "cell_type": "code",
      "execution_count": 5,
      "id": "fbzh2WMp255E",
      "metadata": {
        "id": "fbzh2WMp255E",
        "colab": {
          "base_uri": "https://localhost:8080/"
        },
        "outputId": "f8cf8a29-7e69-4f6f-9d71-2ea09a4236aa"
      },
      "outputs": [
        {
          "output_type": "stream",
          "name": "stdout",
          "text": [
            "Prepared Data\n",
            "Prepared embeddings matrix\n"
          ]
        }
      ],
      "source": [
        "#please download test.json and train_preprocessed.json and glove.6b.200d.txt files from our google drive, since they\n",
        "#were too big to put to github or send through ninova. input them into the data folder and this path should work.\n",
        "\"\"\"\n",
        "train_path = \"../../data/train_preprocessed.json\"\n",
        "test_path = \"../../data/test.json\"\n",
        "embeddings_path = \"../../data/glove.6B.200d.txt\"\n",
        "lstm_model_path =  \"../pretrained_models/lstm_model\"\n",
        "\"\"\"\n",
        "\n",
        "train_path = \"/content/drive/MyDrive/dataminingproje/data/train_preprocessed.json\"\n",
        "test_path = \"/content/drive/MyDrive/dataminingproje/data/test.json\"\n",
        "embeddings_path = \"/content/drive/MyDrive/dataminingproje/data/glove.6B.200d.txt\"\n",
        "lstm_model_path =  \"/content/drive/MyDrive/dataminingproje/data/trained_model_lstm2\"\n",
        "\n",
        "max_words = 5000\n",
        "embedding_dim = 200\n",
        "\n",
        "train, train_l, test, test_l, tokenizer, max_seq_length = utils.read_dataset(train_path, test_path, max_words, balance_train = True, balance_test = True, only_lstm = True)\n",
        "print(\"Prepared Data\")\n",
        "embedding_matrix = utils.embeddings(embeddings_path, embedding_dim, tokenizer, max_words)\n",
        "print(\"Prepared embeddings matrix\")"
      ]
    },
    {
      "cell_type": "markdown",
      "source": [
        "# **Working With Pretrained Model**\n",
        ""
      ],
      "metadata": {
        "id": "fiH0x60d0O06"
      },
      "id": "fiH0x60d0O06"
    },
    {
      "cell_type": "code",
      "source": [
        "#loading in pretrained model.\n",
        "\n",
        "lstm_model = md.LSTM_model(max_words, embedding_dim, embedding_matrix, max_seq_length)\n",
        "lstm_model.load_weights(lstm_model_path)\n",
        "\n",
        "lstm_model.compile(optimizer='adam', loss='binary_crossentropy', metrics=['accuracy', Precision(), Recall()])"
      ],
      "metadata": {
        "id": "htDGu9sfxBOi"
      },
      "id": "htDGu9sfxBOi",
      "execution_count": 8,
      "outputs": []
    },
    {
      "cell_type": "code",
      "execution_count": 39,
      "id": "703d976d-fd6f-431b-81fa-36a25b429d47",
      "metadata": {
        "id": "703d976d-fd6f-431b-81fa-36a25b429d47"
      },
      "outputs": [],
      "source": [
        "#evaluate model on test set\n",
        "test_loss, test_accuracy, test_precision, test_recall = lstm_model.evaluate(test, test_l, verbose=0)"
      ]
    },
    {
      "cell_type": "code",
      "execution_count": 50,
      "id": "70d4735f-ccdc-4957-8194-9bd748e4aa34",
      "metadata": {
        "id": "70d4735f-ccdc-4957-8194-9bd748e4aa34",
        "colab": {
          "base_uri": "https://localhost:8080/"
        },
        "outputId": "6c729373-590b-4990-8f8c-7047e1fd01c1"
      },
      "outputs": [
        {
          "output_type": "stream",
          "name": "stdout",
          "text": [
            "Test Accuracy: 0.772287130355835\n",
            "Test Precision: 0.6983545422554016\n",
            "Test Recall: 0.7449793219566345\n",
            "Test F1: 0.7209138596062693\n"
          ]
        }
      ],
      "source": [
        "print(f\"Test Accuracy: {test_accuracy}\")\n",
        "print(f\"Test Precision: {test_precision}\")\n",
        "print(f\"Test Recall: {test_recall}\")\n",
        "print(f\"Test F1: {2*test_recall*test_precision / (test_recall+test_precision)}\")"
      ]
    },
    {
      "cell_type": "code",
      "source": [
        "predictions = lstm_model.predict(test)"
      ],
      "metadata": {
        "colab": {
          "base_uri": "https://localhost:8080/"
        },
        "id": "APBxJjLCxUMQ",
        "outputId": "216474eb-8203-4593-9bb3-c709642e5879"
      },
      "id": "APBxJjLCxUMQ",
      "execution_count": 10,
      "outputs": [
        {
          "output_type": "stream",
          "name": "stdout",
          "text": [
            "1033/1033 [==============================] - 120s 115ms/step\n",
            "[0.720400958265036, 0.727185134205093, 0.7209138448985647, 0.7007594118597511, 0.643155031731641]\n"
          ]
        }
      ]
    },
    {
      "cell_type": "code",
      "source": [
        "#plot confusion matrix\n",
        "y_pred = (predictions > 0.55).astype(int)\n",
        "cm = confusion_matrix(test_l, y_pred)\n",
        "import seaborn as sns\n",
        "import matplotlib.pyplot as plt\n",
        "\n",
        "sns.heatmap(cm, annot=True, fmt=\"d\", cmap=\"Blues\", cbar=False)\n",
        "plt.title('Confusion Matrix Of LSTM Model')\n",
        "plt.xlabel(\"Predicted\")\n",
        "plt.ylabel(\"True\")\n",
        "plt.show()\n",
        "\n",
        "\n"
      ],
      "metadata": {
        "colab": {
          "base_uri": "https://localhost:8080/",
          "height": 472
        },
        "id": "BAgK-Rm0zQxb",
        "outputId": "63cf2d59-dced-4076-ce69-040fd9a47da2"
      },
      "id": "BAgK-Rm0zQxb",
      "execution_count": 52,
      "outputs": [
        {
          "output_type": "display_data",
          "data": {
            "text/plain": [
              "<Figure size 640x480 with 1 Axes>"
            ],
            "image/png": "[encoded data removed]"
          },
          "metadata": {}
        }
      ]
    },
    {
      "cell_type": "code",
      "source": [
        "#calculate auc score\n",
        "auc_score = roc_auc_score(test_l, predictions)\n",
        "print(f\"We get an AUC score of: {auc_score}\")\n",
        "\n",
        "fpr, tpr, thresholds = roc_curve(test_l, predictions.ravel())\n",
        "roc_auc = auc(fpr, tpr)\n",
        "\n",
        "#plotting roc curve\n",
        "plt.figure(figsize=(6, 6))\n",
        "plt.plot(fpr, tpr, color='darkorange', lw=2, label='ROC curve (AUC = {:.4f})'.format(roc_auc))\n",
        "plt.plot([0, 1], [0, 1], color='navy', lw=2, linestyle='--', label='Random')\n",
        "plt.xlabel('False Positive Rate')\n",
        "plt.ylabel('True Positive Rate')\n",
        "plt.title('ROC Curve for LSTM Model')\n",
        "plt.legend(loc='lower right')\n",
        "plt.show()"
      ],
      "metadata": {
        "colab": {
          "base_uri": "https://localhost:8080/",
          "height": 581
        },
        "id": "wxakwDwx1-D4",
        "outputId": "7dd7feea-d03d-452c-f340-e11200bfc65e"
      },
      "id": "wxakwDwx1-D4",
      "execution_count": 54,
      "outputs": [
        {
          "output_type": "stream",
          "name": "stdout",
          "text": [
            "We get an AUC score of: 0.8531954794573049\n"
          ]
        },
        {
          "output_type": "display_data",
          "data": {
            "text/plain": [
              "<Figure size 600x600 with 1 Axes>"
            ],
            "image/png": "[encoded data removed]"
          },
          "metadata": {}
        }
      ]
    },
    {
      "cell_type": "markdown",
      "source": [
        "# **Train LSTM Model from Scratch**"
      ],
      "metadata": {
        "id": "qQLRS4rz3ES-"
      },
      "id": "qQLRS4rz3ES-"
    },
    {
      "cell_type": "code",
      "source": [
        "#load in model from model.py\n",
        "model = md.LSTM_model(max_words, embedding_dim, embedding_matrix, max_seq_length)\n",
        "model.summary()"
      ],
      "metadata": {
        "id": "EEflvTyQbplr",
        "colab": {
          "base_uri": "https://localhost:8080/"
        },
        "outputId": "7a40d8b9-0433-4d92-e2b5-e11899db4abb"
      },
      "id": "EEflvTyQbplr",
      "execution_count": 6,
      "outputs": [
        {
          "output_type": "stream",
          "name": "stdout",
          "text": [
            "Model: \"sequential\"\n",
            "_________________________________________________________________\n",
            " Layer (type)                Output Shape              Param #   \n",
            "=================================================================\n",
            " embedding (Embedding)       (None, 2596, 200)         1000000   \n",
            "                                                                 \n",
            " bidirectional (Bidirection  (None, 2596, 256)         336896    \n",
            " al)                                                             \n",
            "                                                                 \n",
            " batch_normalization (Batch  (None, 2596, 256)         1024      \n",
            " Normalization)                                                  \n",
            "                                                                 \n",
            " lstm_1 (LSTM)               (None, 2596, 64)          82176     \n",
            "                                                                 \n",
            " lstm_2 (LSTM)               (None, 16)                5184      \n",
            "                                                                 \n",
            " batch_normalization_1 (Bat  (None, 16)                64        \n",
            " chNormalization)                                                \n",
            "                                                                 \n",
            " dense (Dense)               (None, 128)               2176      \n",
            "                                                                 \n",
            " dropout (Dropout)           (None, 128)               0         \n",
            "                                                                 \n",
            " dense_1 (Dense)             (None, 64)                8256      \n",
            "                                                                 \n",
            " dropout_1 (Dropout)         (None, 64)                0         \n",
            "                                                                 \n",
            " dense_2 (Dense)             (None, 1)                 65        \n",
            "                                                                 \n",
            "=================================================================\n",
            "Total params: 1435841 (5.48 MB)\n",
            "Trainable params: 435297 (1.66 MB)\n",
            "Non-trainable params: 1000544 (3.82 MB)\n",
            "_________________________________________________________________\n"
          ]
        }
      ]
    },
    {
      "cell_type": "code",
      "source": [
        "#to solve vanishing gradient problem, add clipvalue to optimizer.\n",
        "optimizer = Adam(clipvalue=1.0)\n",
        "#using a learning rate scheduler to further optimize the model\n",
        "lr_scheduler = LearningRateScheduler(utils.lr_schedule)\n",
        "\n",
        "num_epochs = 5\n",
        "batch_size = 256"
      ],
      "metadata": {
        "id": "vcOn3xvcGYjg"
      },
      "id": "vcOn3xvcGYjg",
      "execution_count": 55,
      "outputs": []
    },
    {
      "cell_type": "code",
      "source": [
        "#the dataset is not fully balanced, thus use class weights to give varying importance to the classes.\n",
        "class_weights = compute_class_weight('balanced', classes=pd.unique(train_l), y=train_l)\n",
        "class_weight_dict = dict(enumerate(class_weights))\n",
        "\n",
        "train_l = train_l.values\n",
        "\n",
        "model.compile(optimizer=optimizer, loss='binary_crossentropy', metrics=['accuracy', Precision(), Recall()])\n",
        "num_folds = 5\n",
        "\n",
        "#use stratifiedKFold since the data is unbalanced.\n",
        "kf = StratifiedKFold(n_splits=num_folds, shuffle=True, random_state=11)\n",
        "\n",
        "for fold, (train_index, val_index) in enumerate(kf.split(train, train_l)):\n",
        "    print(f\"Fold {fold + 1}:\")\n",
        "\n",
        "    #splitting data into training and validation sets\n",
        "    X_train_fold, X_val_fold = train[train_index], train[val_index]\n",
        "    y_train_fold, y_val_fold = train_l[train_index], train_l[val_index]\n",
        "\n",
        "    #training the model on the training set\n",
        "    model.fit(X_train_fold, y_train_fold, epochs=num_epochs, batch_size=batch_size, class_weight=class_weight_dict,\n",
        "              validation_data=(X_val_fold, y_val_fold), callbacks=[lr_scheduler])\n",
        "\n",
        "    #evaluating the model on the validation set\n",
        "    y_val_pred = model.predict(X_val_fold)\n",
        "    y_val_pred_binary = (y_val_pred > 0.5).astype(int)\n",
        "    accuracy = accuracy_score(y_val_fold, y_val_pred_binary)\n",
        "    precision = precision_score(y_val_fold, y_val_pred_binary)\n",
        "    recall = recall_score(y_val_fold, y_val_pred_binary)\n",
        "    print(f\"Validation Accuracy: {accuracy}, Precision: {precision}, Recall: {recall}\")\n",
        "\n",
        "\n",
        "\n",
        "#evaluating on test set\n",
        "test_results = model.evaluate(test, test_l)\n",
        "print(f\"Test Loss: {test_results[0]}, Test Accuracy: {test_results[1]}\")"
      ],
      "metadata": {
        "id": "00D5CQjTGePB"
      },
      "id": "00D5CQjTGePB",
      "execution_count": null,
      "outputs": []
    },
    {
      "cell_type": "code",
      "execution_count": null,
      "id": "8ffd9c6b-ff49-4152-a464-c5f19d97b513",
      "metadata": {
        "id": "8ffd9c6b-ff49-4152-a464-c5f19d97b513"
      },
      "outputs": [],
      "source": [
        "#save the model weights to desired path\n",
        "save_path = \"/content/drive/MyDrive/dataminingproje/data/trained_model_lstm4\"\n",
        "model.save_weights(save_path, save_format=\"h5\")\n"
      ]
    },
    {
      "cell_type": "markdown",
      "id": "1305a8d8-b1a2-4f99-a39c-e89d4b58666c",
      "metadata": {
        "id": "1305a8d8-b1a2-4f99-a39c-e89d4b58666c"
      },
      "source": []
    }
  ],
  "metadata": {
    "accelerator": "GPU",
    "colab": {
      "gpuType": "T4",
      "provenance": [],
      "machine_shape": "hm"
    },
    "kernelspec": {
      "display_name": "Python 3",
      "name": "python3"
    },
    "language_info": {
      "codemirror_mode": {
        "name": "ipython",
        "version": 3
      },
      "file_extension": ".py",
      "mimetype": "text/x-python",
      "name": "python",
      "nbconvert_exporter": "python",
      "pygments_lexer": "ipython3",
      "version": "3.8.8"
    }
  },
  "nbformat": 4,
  "nbformat_minor": 5
}