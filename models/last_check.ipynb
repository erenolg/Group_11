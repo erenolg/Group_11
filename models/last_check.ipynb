{
 "cells": [
  {
   "cell_type": "code",
   "execution_count": 1,
   "id": "77e0472d",
   "metadata": {},
   "outputs": [],
   "source": [
    "from tensorflow_ import mModel\n",
    "import numpy as np\n",
    "import pandas as pd\n",
    "from sklearn.metrics import roc_auc_score, auc, roc_curve, f1_score, confusion_matrix, classification_report\n",
    "from tensorflow.keras.metrics import Precision, Recall, F1Score\n",
    "import tensorflow as tf\n",
    "import matplotlib.pyplot as plt\n",
    "import seaborn as sns\n",
    "from tensorflow import keras"
   ]
  },
  {
   "cell_type": "code",
   "execution_count": 2,
   "id": "6e69f893",
   "metadata": {},
   "outputs": [],
   "source": [
    "class mModel(keras.Model):\n",
    "    def __init__(self, user_max, book_max, user_emb_size=8, book_emb_size=8):\n",
    "        super(mModel, self).__init__()\n",
    "        self.user_id_input = keras.Input(shape=(1,), name=\"user_id\")\n",
    "        self.book_id_input = keras.Input(shape=(1,), name=\"book_id\")\n",
    "        self.numerics_input = keras.Input(shape=(3,), name=\"numerics\")\n",
    "\n",
    "        self.hidden1 = keras.layers.Dense(256, activation=\"relu\")\n",
    "        self.user_embedding = keras.layers.Embedding(input_dim=user_max+3, output_dim=user_emb_size, input_length=1, name=\"user_embedding\")\n",
    "        self.book_embedding = keras.layers.Embedding(input_dim=book_max+3, output_dim=book_emb_size,input_length=1, name=\"book_embedding\")\n",
    "\n",
    "        self.flatten = keras.layers.Flatten()\n",
    "\n",
    "        self.hidden2 = keras.layers.Dense(128, activation=\"relu\")\n",
    "        self.hidden3 = keras.layers.Dense(64, activation=\"relu\")\n",
    "        self.hidden4 = keras.layers.Dense(1, activation=\"sigmoid\")\n",
    "\n",
    "        self.dropout1 = keras.layers.Dropout(0.4)\n",
    "        self.dropout2 = keras.layers.Dropout(0.4)\n",
    "        self.dropout3 = keras.layers.Dropout(0.4)\n",
    "\n",
    "        self.concatenate = keras.layers.Concatenate()\n",
    "\n",
    "\n",
    "    def call(self, inputs):\n",
    "        user_id_input = inputs[\"user_id\"]\n",
    "        book_id_input = inputs[\"book_id\"]\n",
    "        numerics = inputs[\"numerics\"]\n",
    "\n",
    "        numerics = self.dropout1(self.hidden1(numerics))\n",
    "        user_embedded = self.user_embedding(user_id_input)\n",
    "        book_embedded = self.book_embedding(book_id_input)\n",
    "\n",
    "        user_flattened = self.flatten(user_embedded)\n",
    "        book_flattened = self.flatten(book_embedded)\n",
    "        concatenated = self.concatenate([user_flattened, book_flattened, numerics])\n",
    "\n",
    "        out = self.dropout2(self.hidden2(concatenated))\n",
    "        out = self.dropout3(self.hidden3(out))\n",
    "        out = self.hidden4(out)\n",
    "        return out"
   ]
  },
  {
   "cell_type": "code",
   "execution_count": 50,
   "id": "c5505aca",
   "metadata": {},
   "outputs": [],
   "source": [
    "\n",
    "class mModel(keras.Model):\n",
    "    def __init__(self, user_max, book_max, user_emb_size=8, book_emb_size=8):\n",
    "        super(mModel, self).__init__()\n",
    "\n",
    "        self.user_embedding = keras.layers.Embedding(input_dim=user_max+3, output_dim=user_emb_size, input_length=1, name=\"user_embedding\")\n",
    "        self.book_embedding = keras.layers.Embedding(input_dim=book_max+3, output_dim=book_emb_size,input_length=1, name=\"book_embedding\")\n",
    "\n",
    "        #self.matrix_factorization = keras.layers.Dot(axes=1, normalize=False)  # Matrix factorization layer\n",
    "        \n",
    "\n",
    "        self.numerics_ = keras.Sequential([\n",
    "            keras.layers.Dense(16, activation=\"relu\"),\n",
    "            keras.layers.BatchNormalization(),\n",
    "            keras.layers.Dense(32, activation=\"relu\")\n",
    "        ])\n",
    "\n",
    "        self.concatenate = keras.layers.Concatenate()\n",
    "        \n",
    "        self.dense_layers = keras.Sequential([\n",
    "            keras.layers.Dense(128, activation=\"relu\", input_shape=(19,)),\n",
    "            keras.layers.BatchNormalization(),\n",
    "            keras.layers.Dropout(0.4),\n",
    "            keras.layers.Dense(256, activation=\"relu\"),\n",
    "            keras.layers.BatchNormalization(),\n",
    "            keras.layers.Dropout(0.4),\n",
    "            keras.layers.Dense(256, activation=\"relu\"),\n",
    "            keras.layers.BatchNormalization(),\n",
    "            keras.layers.Dropout(0.4),\n",
    "            keras.layers.Dense(1, activation=\"sigmoid\")\n",
    "        ])\n",
    "\n",
    "        self.out_layer = keras.layers.Dense(1, activation=\"sigmoid\")\n",
    "        \n",
    "\n",
    "    def call(self, x):\n",
    "        user_id_input = x[\"user_id\"]\n",
    "        book_id_input = x[\"book_id\"]\n",
    "        numerics = x[\"numerics\"]\n",
    "\n",
    "        user_embedded = self.user_embedding(user_id_input)\n",
    "        book_embedded = self.book_embedding(book_id_input)\n",
    "\n",
    "        user_flattened = keras.layers.Flatten()(user_embedded)\n",
    "        book_flattened = keras.layers.Flatten()(book_embedded)\n",
    "\n",
    "        concatenated = self.concatenate([user_flattened, book_flattened, numerics])\n",
    "        print(concatenated.shape)\n",
    "        #print(f\"conc: {concatenated.shape}\")\n",
    "        out = self.dense_layers(concatenated)\n",
    "        return out"
   ]
  },
  {
   "cell_type": "code",
   "execution_count": 3,
   "id": "3ea6b01b",
   "metadata": {},
   "outputs": [],
   "source": [
    "train = pd.read_json(\"../data/train_preprocessed.json\")\n",
    "test = pd.read_json(\"../data/test.json\")"
   ]
  },
  {
   "cell_type": "code",
   "execution_count": 4,
   "id": "c7639ebf",
   "metadata": {},
   "outputs": [],
   "source": [
    "false_label = train[train.has_spoiler == 0].sample(55000).reset_index(drop=True)"
   ]
  },
  {
   "cell_type": "code",
   "execution_count": 5,
   "id": "93bee6fa",
   "metadata": {},
   "outputs": [],
   "source": [
    "true_label = train[train.has_spoiler == 1]\n",
    "train = pd.concat((true_label, false_label)).reset_index(drop=True)"
   ]
  },
  {
   "cell_type": "code",
   "execution_count": 6,
   "id": "789f3bde",
   "metadata": {},
   "outputs": [],
   "source": [
    "X_train, y_train = train.drop(columns=[\"has_spoiler\"]), train[\"has_spoiler\"]\n",
    "X_test, y_test = test.drop(columns=[\"has_spoiler\"]), test[\"has_spoiler\"]"
   ]
  },
  {
   "cell_type": "code",
   "execution_count": 7,
   "id": "96a52514",
   "metadata": {},
   "outputs": [],
   "source": [
    "inputs_train = {\n",
    "\"user_id\": X_train[\"user_id\"].values,\n",
    "\"book_id\": X_train[\"book_id\"].values,\n",
    "\"numerics\": X_train[[\"rating\", \"n_votes\", \"n_comments\"]].values\n",
    "}\n",
    "\n",
    "user_max = X_train.user_id.max()\n",
    "book_max = X_train.book_id.max()"
   ]
  },
  {
   "cell_type": "code",
   "execution_count": 8,
   "id": "ebbf8b81",
   "metadata": {
    "scrolled": false
   },
   "outputs": [
    {
     "name": "stdout",
     "output_type": "stream",
     "text": [
      "Epoch 1/10\n",
      "335/335 [==============================] - 5s 9ms/step - loss: 0.6773 - acc: 0.5991 - val_loss: 0.9184 - val_acc: 0.0000e+00\n",
      "Epoch 2/10\n",
      "335/335 [==============================] - 3s 8ms/step - loss: 0.6721 - acc: 0.6071 - val_loss: 0.9314 - val_acc: 0.0000e+00\n",
      "Epoch 3/10\n",
      "335/335 [==============================] - 3s 7ms/step - loss: 0.6639 - acc: 0.6073 - val_loss: 0.9389 - val_acc: 2.8056e-04\n",
      "Epoch 4/10\n",
      "335/335 [==============================] - 3s 8ms/step - loss: 0.6216 - acc: 0.6533 - val_loss: 0.8221 - val_acc: 0.4109\n",
      "Epoch 5/10\n",
      "335/335 [==============================] - 2s 7ms/step - loss: 0.5413 - acc: 0.7347 - val_loss: 0.8418 - val_acc: 0.5194\n",
      "Epoch 6/10\n",
      "335/335 [==============================] - 3s 7ms/step - loss: 0.4959 - acc: 0.7671 - val_loss: 0.8638 - val_acc: 0.5401\n",
      "Epoch 7/10\n",
      "335/335 [==============================] - 3s 8ms/step - loss: 0.4692 - acc: 0.7857 - val_loss: 0.8433 - val_acc: 0.5664\n",
      "Epoch 8/10\n",
      "335/335 [==============================] - 2s 7ms/step - loss: 0.4495 - acc: 0.7985 - val_loss: 0.8510 - val_acc: 0.5739\n",
      "Epoch 9/10\n",
      "335/335 [==============================] - 3s 8ms/step - loss: 0.4322 - acc: 0.8085 - val_loss: 0.8654 - val_acc: 0.5714\n",
      "Epoch 10/10\n",
      "335/335 [==============================] - 3s 7ms/step - loss: 0.4183 - acc: 0.8176 - val_loss: 0.8594 - val_acc: 0.5830\n"
     ]
    },
    {
     "data": {
      "text/plain": [
       "<keras.src.callbacks.History at 0x1d99aa52890>"
      ]
     },
     "execution_count": 8,
     "metadata": {},
     "output_type": "execute_result"
    }
   ],
   "source": [
    "model = mModel(user_max, book_max)\n",
    "\n",
    "model.compile(optimizer=tf.keras.optimizers.Adam(learning_rate=0.0001), loss=\"binary_crossentropy\", metrics=[\"acc\"])\n",
    "\n",
    "model.fit(inputs_train, y_train, epochs=10, batch_size=256, validation_split=0.2)"
   ]
  },
  {
   "cell_type": "code",
   "execution_count": null,
   "id": "aecde14a",
   "metadata": {},
   "outputs": [],
   "source": [
    "inputs_test = {\n",
    "\"user_id\": X_test[\"user_id\"].values,\n",
    "\"book_id\": X_test[\"book_id\"].values,\n",
    "\"numerics\": X_test[[\"rating\", \"n_votes\", \"n_comments\"]].values\n",
    "}"
   ]
  },
  {
   "cell_type": "code",
   "execution_count": null,
   "id": "481177a0",
   "metadata": {},
   "outputs": [],
   "source": [
    "preds = model.predict(inputs_test)"
   ]
  },
  {
   "cell_type": "code",
   "execution_count": null,
   "id": "ce219851",
   "metadata": {},
   "outputs": [],
   "source": [
    "plt.hist(preds);"
   ]
  },
  {
   "cell_type": "code",
   "execution_count": 26,
   "id": "2ce75a7d",
   "metadata": {},
   "outputs": [
    {
     "data": {
      "text/plain": [
       "(12231,)"
      ]
     },
     "execution_count": 26,
     "metadata": {},
     "output_type": "execute_result"
    }
   ],
   "source": [
    "b\n",
    "preds[preds > 0.3].shape"
   ]
  },
  {
   "cell_type": "code",
   "execution_count": 32,
   "id": "7ab128df",
   "metadata": {},
   "outputs": [
    {
     "data": {
      "text/plain": [
       "12231"
      ]
     },
     "execution_count": 32,
     "metadata": {},
     "output_type": "execute_result"
    }
   ],
   "source": []
  },
  {
   "cell_type": "code",
   "execution_count": 29,
   "id": "af103d29",
   "metadata": {},
   "outputs": [
    {
     "data": {
      "text/plain": [
       "array([0.32332984, 0.47949287, 0.40253657, ..., 0.6086842 , 0.35590684,\n",
       "       0.5556251 ], dtype=float32)"
      ]
     },
     "execution_count": 29,
     "metadata": {},
     "output_type": "execute_result"
    }
   ],
   "source": [
    "preds[preds > 0.3]"
   ]
  },
  {
   "cell_type": "code",
   "execution_count": 24,
   "id": "7c9fbba9",
   "metadata": {},
   "outputs": [
    {
     "data": {
      "text/plain": [
       "12979.316"
      ]
     },
     "execution_count": 24,
     "metadata": {},
     "output_type": "execute_result"
    }
   ],
   "source": [
    "preds.shape[0] * 0.098"
   ]
  },
  {
   "cell_type": "code",
   "execution_count": 21,
   "id": "aee78814",
   "metadata": {},
   "outputs": [
    {
     "data": {
      "text/plain": [
       "0.09846574349526585"
      ]
     },
     "execution_count": 21,
     "metadata": {},
     "output_type": "execute_result"
    }
   ],
   "source": [
    "y_test.sum() / len(y_test)"
   ]
  },
  {
   "cell_type": "code",
   "execution_count": 34,
   "id": "f8f16089",
   "metadata": {},
   "outputs": [],
   "source": [
    "cm = confusion_matrix(y_test, (preds > 0.3).astype(int))"
   ]
  },
  {
   "cell_type": "code",
   "execution_count": 35,
   "id": "289e5222",
   "metadata": {},
   "outputs": [
    {
     "data": {
      "text/plain": [
       "array([[111087,   8314],\n",
       "       [  9124,   3917]], dtype=int64)"
      ]
     },
     "execution_count": 35,
     "metadata": {},
     "output_type": "execute_result"
    }
   ],
   "source": [
    "cm"
   ]
  },
  {
   "cell_type": "code",
   "execution_count": null,
   "id": "1c5a8a9e",
   "metadata": {},
   "outputs": [],
   "source": [
    "sklearn.met"
   ]
  },
  {
   "cell_type": "code",
   "execution_count": 20,
   "id": "6bc9fabb",
   "metadata": {},
   "outputs": [
    {
     "data": {
      "text/plain": [
       "0.09124283"
      ]
     },
     "execution_count": 20,
     "metadata": {},
     "output_type": "execute_result"
    }
   ],
   "source": [
    "preds.mean()"
   ]
  },
  {
   "cell_type": "code",
   "execution_count": 10,
   "id": "c1edf611",
   "metadata": {},
   "outputs": [
    {
     "data": {
      "text/plain": [
       "(529768,)"
      ]
     },
     "execution_count": 10,
     "metadata": {},
     "output_type": "execute_result"
    }
   ],
   "source": [
    "y_train.shape"
   ]
  },
  {
   "cell_type": "code",
   "execution_count": 11,
   "id": "91293ad5",
   "metadata": {},
   "outputs": [
    {
     "data": {
      "text/plain": [
       "51930"
      ]
     },
     "execution_count": 11,
     "metadata": {},
     "output_type": "execute_result"
    }
   ],
   "source": [
    "y_train.sum()"
   ]
  },
  {
   "cell_type": "code",
   "execution_count": 12,
   "id": "f4454328",
   "metadata": {},
   "outputs": [
    {
     "data": {
      "text/plain": [
       "13041"
      ]
     },
     "execution_count": 12,
     "metadata": {},
     "output_type": "execute_result"
    }
   ],
   "source": [
    "y_test.sum()"
   ]
  },
  {
   "cell_type": "code",
   "execution_count": 40,
   "id": "58ece056",
   "metadata": {},
   "outputs": [
    {
     "name": "stdout",
     "output_type": "stream",
     "text": [
      "              precision    recall  f1-score   support\n",
      "\n",
      "           0       0.92      0.93      0.93    119401\n",
      "           1       0.32      0.30      0.31     13041\n",
      "\n",
      "    accuracy                           0.87    132442\n",
      "   macro avg       0.62      0.62      0.62    132442\n",
      "weighted avg       0.86      0.87      0.87    132442\n",
      "\n"
     ]
    }
   ],
   "source": [
    "print(classification_report(y_test, (preds>0.3).astype(int)))"
   ]
  },
  {
   "cell_type": "code",
   "execution_count": 38,
   "id": "128e45c4",
   "metadata": {},
   "outputs": [
    {
     "data": {
      "text/plain": [
       "array([[0],\n",
       "       [0],\n",
       "       [0],\n",
       "       ...,\n",
       "       [0],\n",
       "       [0],\n",
       "       [0]])"
      ]
     },
     "execution_count": 38,
     "metadata": {},
     "output_type": "execute_result"
    }
   ],
   "source": [
    "(preds>0.3).astype(int)"
   ]
  },
  {
   "cell_type": "code",
   "execution_count": 39,
   "id": "1ea55a0e",
   "metadata": {},
   "outputs": [
    {
     "data": {
      "text/plain": [
       "0         0\n",
       "1         1\n",
       "2         0\n",
       "3         0\n",
       "4         0\n",
       "         ..\n",
       "132437    0\n",
       "132438    0\n",
       "132439    0\n",
       "132440    0\n",
       "132441    0\n",
       "Name: has_spoiler, Length: 132442, dtype: int64"
      ]
     },
     "execution_count": 39,
     "metadata": {},
     "output_type": "execute_result"
    }
   ],
   "source": [
    "y_test"
   ]
  },
  {
   "cell_type": "code",
   "execution_count": null,
   "id": "2f196a5f",
   "metadata": {},
   "outputs": [],
   "source": []
  }
 ],
 "metadata": {
  "kernelspec": {
   "display_name": "Python 3 (ipykernel)",
   "language": "python",
   "name": "python3"
  },
  "language_info": {
   "codemirror_mode": {
    "name": "ipython",
    "version": 3
   },
   "file_extension": ".py",
   "mimetype": "text/x-python",
   "name": "python",
   "nbconvert_exporter": "python",
   "pygments_lexer": "ipython3",
   "version": "3.11.3"
  }
 },
 "nbformat": 4,
 "nbformat_minor": 5
}
