{
 "cells": [
  {
   "cell_type": "code",
   "execution_count": 2,
   "id": "1ef9eaf3",
   "metadata": {},
   "outputs": [],
   "source": [
    "import pandas as pd\n",
    "import numpy as np\n",
    "np.random.seed(11)"
   ]
  },
  {
   "cell_type": "code",
   "execution_count": 3,
   "id": "11abe064",
   "metadata": {},
   "outputs": [],
   "source": [
    "# Enter data paths for raw_text version and parsed_text version\n",
    "data_raw = \"./data/reviews_raw.json\"\n",
    "data_parsed = \"./data/reviews_parsed.json\"\n",
    "\n",
    "data_with_raw = pd.read_json(data_raw, lines=True)\n",
    "data_with_parsed = pd.read_json(data_parsed, lines=True)"
   ]
  },
  {
   "cell_type": "code",
   "execution_count": 4,
   "id": "75bc57f8",
   "metadata": {},
   "outputs": [],
   "source": [
    "new_df = pd.merge(data_with_parsed, data_with_raw, on=[\"review_id\"])"
   ]
  },
  {
   "cell_type": "code",
   "execution_count": 5,
   "id": "9048117a",
   "metadata": {},
   "outputs": [],
   "source": [
    "new_df = new_df.rename(columns={\"rating_x\": \"rating\", \"user_id_x\": \"user_id\", \"rating_x\": \"rating\",\n",
    "                       \"book_id_x\": \"book_id\",})\n",
    "selected_cols = [\"user_id\", \"book_id\", \"review_sentences\", \"rating\", \n",
    "                 \"timestamp\", \"n_votes\", \"n_comments\", \"has_spoiler\"]\n",
    "new_df = new_df[selected_cols]"
   ]
  },
  {
   "cell_type": "code",
   "execution_count": 6,
   "id": "8fd8e0af",
   "metadata": {
    "scrolled": false
   },
   "outputs": [
    {
     "data": {
      "text/html": [
       "<div>\n",
       "<style scoped>\n",
       "    .dataframe tbody tr th:only-of-type {\n",
       "        vertical-align: middle;\n",
       "    }\n",
       "\n",
       "    .dataframe tbody tr th {\n",
       "        vertical-align: top;\n",
       "    }\n",
       "\n",
       "    .dataframe thead th {\n",
       "        text-align: right;\n",
       "    }\n",
       "</style>\n",
       "<table border=\"1\" class=\"dataframe\">\n",
       "  <thead>\n",
       "    <tr style=\"text-align: right;\">\n",
       "      <th></th>\n",
       "      <th>user_id</th>\n",
       "      <th>book_id</th>\n",
       "      <th>review_sentences</th>\n",
       "      <th>rating</th>\n",
       "      <th>timestamp</th>\n",
       "      <th>n_votes</th>\n",
       "      <th>n_comments</th>\n",
       "      <th>has_spoiler</th>\n",
       "    </tr>\n",
       "  </thead>\n",
       "  <tbody>\n",
       "    <tr>\n",
       "      <th>0</th>\n",
       "      <td>8842281e1d1347389f2ab93d60773d4d</td>\n",
       "      <td>18245960</td>\n",
       "      <td>[[0, This is a special book.], [0, It started ...</td>\n",
       "      <td>5</td>\n",
       "      <td>2017-08-30</td>\n",
       "      <td>28</td>\n",
       "      <td>1</td>\n",
       "      <td>True</td>\n",
       "    </tr>\n",
       "    <tr>\n",
       "      <th>1</th>\n",
       "      <td>8842281e1d1347389f2ab93d60773d4d</td>\n",
       "      <td>16981</td>\n",
       "      <td>[[0, Recommended by Don Katz.], [0, Avail for ...</td>\n",
       "      <td>3</td>\n",
       "      <td>2017-03-22</td>\n",
       "      <td>1</td>\n",
       "      <td>0</td>\n",
       "      <td>False</td>\n",
       "    </tr>\n",
       "    <tr>\n",
       "      <th>2</th>\n",
       "      <td>8842281e1d1347389f2ab93d60773d4d</td>\n",
       "      <td>28684704</td>\n",
       "      <td>[[0, A fun, fast paced science fiction thrille...</td>\n",
       "      <td>3</td>\n",
       "      <td>2017-03-20</td>\n",
       "      <td>22</td>\n",
       "      <td>0</td>\n",
       "      <td>True</td>\n",
       "    </tr>\n",
       "    <tr>\n",
       "      <th>3</th>\n",
       "      <td>8842281e1d1347389f2ab93d60773d4d</td>\n",
       "      <td>27161156</td>\n",
       "      <td>[[0, Recommended reading to understand what is...</td>\n",
       "      <td>0</td>\n",
       "      <td>2016-11-09</td>\n",
       "      <td>5</td>\n",
       "      <td>1</td>\n",
       "      <td>False</td>\n",
       "    </tr>\n",
       "    <tr>\n",
       "      <th>4</th>\n",
       "      <td>8842281e1d1347389f2ab93d60773d4d</td>\n",
       "      <td>25884323</td>\n",
       "      <td>[[0, I really enjoyed this book, and there is ...</td>\n",
       "      <td>4</td>\n",
       "      <td>2016-04-25</td>\n",
       "      <td>9</td>\n",
       "      <td>1</td>\n",
       "      <td>True</td>\n",
       "    </tr>\n",
       "  </tbody>\n",
       "</table>\n",
       "</div>"
      ],
      "text/plain": [
       "                            user_id   book_id  \\\n",
       "0  8842281e1d1347389f2ab93d60773d4d  18245960   \n",
       "1  8842281e1d1347389f2ab93d60773d4d     16981   \n",
       "2  8842281e1d1347389f2ab93d60773d4d  28684704   \n",
       "3  8842281e1d1347389f2ab93d60773d4d  27161156   \n",
       "4  8842281e1d1347389f2ab93d60773d4d  25884323   \n",
       "\n",
       "                                    review_sentences  rating  timestamp  \\\n",
       "0  [[0, This is a special book.], [0, It started ...       5 2017-08-30   \n",
       "1  [[0, Recommended by Don Katz.], [0, Avail for ...       3 2017-03-22   \n",
       "2  [[0, A fun, fast paced science fiction thrille...       3 2017-03-20   \n",
       "3  [[0, Recommended reading to understand what is...       0 2016-11-09   \n",
       "4  [[0, I really enjoyed this book, and there is ...       4 2016-04-25   \n",
       "\n",
       "   n_votes  n_comments  has_spoiler  \n",
       "0       28           1         True  \n",
       "1        1           0        False  \n",
       "2       22           0         True  \n",
       "3        5           1        False  \n",
       "4        9           1         True  "
      ]
     },
     "execution_count": 6,
     "metadata": {},
     "output_type": "execute_result"
    }
   ],
   "source": [
    "new_df.head()"
   ]
  },
  {
   "cell_type": "code",
   "execution_count": 7,
   "id": "b42dc85a",
   "metadata": {
    "scrolled": true
   },
   "outputs": [
    {
     "name": "stdout",
     "output_type": "stream",
     "text": [
      "number of unique books at the beginning: 25475\n",
      "number of unique books at the end: 11339\n",
      "Shape at the end: (604686, 8)\n"
     ]
    }
   ],
   "source": [
    "# Dataset reduction\n",
    "\n",
    "print(f\"number of unique books at the beginning: {new_df.book_id.nunique()}\")\n",
    "\n",
    "select_number = 15000\n",
    "random_books = np.random.choice(new_df.book_id.unique().tolist(), size=select_number)\n",
    "reduced_df = new_df[new_df.book_id.isin(random_books)]\n",
    "\n",
    "print(f\"number of unique books at the end: {reduced_df.book_id.nunique()}\")\n",
    "\n",
    "print(f\"Shape at the end: {reduced_df.shape}\")"
   ]
  },
  {
   "cell_type": "code",
   "execution_count": 32,
   "id": "5a5dad21",
   "metadata": {
    "scrolled": true
   },
   "outputs": [
    {
     "data": {
      "text/plain": [
       "0.9344783904373509"
      ]
     },
     "execution_count": 32,
     "metadata": {},
     "output_type": "execute_result"
    }
   ],
   "source": [
    "print(f\"ratio of non-spoiler labels: {reduced_df.has_spoiler.value_counts()[0] / len(reduced_df)}%\")"
   ]
  },
  {
   "cell_type": "code",
   "execution_count": 26,
   "id": "7b4e15ec",
   "metadata": {},
   "outputs": [],
   "source": [
    "reduced_df.to_csv(\"./data/reduced.csv\", index=False)"
   ]
  },
  {
   "cell_type": "code",
   "execution_count": 27,
   "id": "2f177860",
   "metadata": {},
   "outputs": [],
   "source": [
    "df = pd.read_csv(\"./data/reduced.csv\")"
   ]
  },
  {
   "cell_type": "code",
   "execution_count": 28,
   "id": "cf544234",
   "metadata": {},
   "outputs": [
    {
     "data": {
      "text/html": [
       "<div>\n",
       "<style scoped>\n",
       "    .dataframe tbody tr th:only-of-type {\n",
       "        vertical-align: middle;\n",
       "    }\n",
       "\n",
       "    .dataframe tbody tr th {\n",
       "        vertical-align: top;\n",
       "    }\n",
       "\n",
       "    .dataframe thead th {\n",
       "        text-align: right;\n",
       "    }\n",
       "</style>\n",
       "<table border=\"1\" class=\"dataframe\">\n",
       "  <thead>\n",
       "    <tr style=\"text-align: right;\">\n",
       "      <th></th>\n",
       "      <th>user_id</th>\n",
       "      <th>book_id</th>\n",
       "      <th>review_sentences</th>\n",
       "      <th>rating</th>\n",
       "      <th>timestamp</th>\n",
       "      <th>n_votes</th>\n",
       "      <th>n_comments</th>\n",
       "      <th>has_spoiler</th>\n",
       "    </tr>\n",
       "  </thead>\n",
       "  <tbody>\n",
       "    <tr>\n",
       "      <th>0</th>\n",
       "      <td>8842281e1d1347389f2ab93d60773d4d</td>\n",
       "      <td>16981</td>\n",
       "      <td>[[0, 'Recommended by Don Katz.'], [0, 'Avail f...</td>\n",
       "      <td>3</td>\n",
       "      <td>2017-03-22</td>\n",
       "      <td>1</td>\n",
       "      <td>0</td>\n",
       "      <td>False</td>\n",
       "    </tr>\n",
       "    <tr>\n",
       "      <th>1</th>\n",
       "      <td>8842281e1d1347389f2ab93d60773d4d</td>\n",
       "      <td>28684704</td>\n",
       "      <td>[[0, 'A fun, fast paced science fiction thrill...</td>\n",
       "      <td>3</td>\n",
       "      <td>2017-03-20</td>\n",
       "      <td>22</td>\n",
       "      <td>0</td>\n",
       "      <td>True</td>\n",
       "    </tr>\n",
       "    <tr>\n",
       "      <th>2</th>\n",
       "      <td>8842281e1d1347389f2ab93d60773d4d</td>\n",
       "      <td>19398490</td>\n",
       "      <td>[[0, 'A beautiful story.'], [0, 'It is rare to...</td>\n",
       "      <td>4</td>\n",
       "      <td>2016-09-20</td>\n",
       "      <td>35</td>\n",
       "      <td>5</td>\n",
       "      <td>False</td>\n",
       "    </tr>\n",
       "    <tr>\n",
       "      <th>3</th>\n",
       "      <td>8842281e1d1347389f2ab93d60773d4d</td>\n",
       "      <td>24189224</td>\n",
       "      <td>[[0, 'Numerous people in publishing have told ...</td>\n",
       "      <td>0</td>\n",
       "      <td>2015-05-29</td>\n",
       "      <td>11</td>\n",
       "      <td>5</td>\n",
       "      <td>False</td>\n",
       "    </tr>\n",
       "    <tr>\n",
       "      <th>4</th>\n",
       "      <td>8842281e1d1347389f2ab93d60773d4d</td>\n",
       "      <td>22551730</td>\n",
       "      <td>[[0, 'Another hard to put down nonfiction book...</td>\n",
       "      <td>4</td>\n",
       "      <td>2016-12-14</td>\n",
       "      <td>20</td>\n",
       "      <td>6</td>\n",
       "      <td>False</td>\n",
       "    </tr>\n",
       "  </tbody>\n",
       "</table>\n",
       "</div>"
      ],
      "text/plain": [
       "                            user_id   book_id  \\\n",
       "0  8842281e1d1347389f2ab93d60773d4d     16981   \n",
       "1  8842281e1d1347389f2ab93d60773d4d  28684704   \n",
       "2  8842281e1d1347389f2ab93d60773d4d  19398490   \n",
       "3  8842281e1d1347389f2ab93d60773d4d  24189224   \n",
       "4  8842281e1d1347389f2ab93d60773d4d  22551730   \n",
       "\n",
       "                                    review_sentences  rating   timestamp  \\\n",
       "0  [[0, 'Recommended by Don Katz.'], [0, 'Avail f...       3  2017-03-22   \n",
       "1  [[0, 'A fun, fast paced science fiction thrill...       3  2017-03-20   \n",
       "2  [[0, 'A beautiful story.'], [0, 'It is rare to...       4  2016-09-20   \n",
       "3  [[0, 'Numerous people in publishing have told ...       0  2015-05-29   \n",
       "4  [[0, 'Another hard to put down nonfiction book...       4  2016-12-14   \n",
       "\n",
       "   n_votes  n_comments  has_spoiler  \n",
       "0        1           0        False  \n",
       "1       22           0         True  \n",
       "2       35           5        False  \n",
       "3       11           5        False  \n",
       "4       20           6        False  "
      ]
     },
     "execution_count": 28,
     "metadata": {},
     "output_type": "execute_result"
    }
   ],
   "source": [
    "df.head()"
   ]
  },
  {
   "cell_type": "code",
   "execution_count": 29,
   "id": "3c1a9caf",
   "metadata": {
    "scrolled": true
   },
   "outputs": [
    {
     "data": {
      "text/plain": [
       "(604686, 8)"
      ]
     },
     "execution_count": 29,
     "metadata": {},
     "output_type": "execute_result"
    }
   ],
   "source": [
    "df.shape"
   ]
  }
 ],
 "metadata": {
  "kernelspec": {
   "display_name": "Python 3 (ipykernel)",
   "language": "python",
   "name": "python3"
  },
  "language_info": {
   "codemirror_mode": {
    "name": "ipython",
    "version": 3
   },
   "file_extension": ".py",
   "mimetype": "text/x-python",
   "name": "python",
   "nbconvert_exporter": "python",
   "pygments_lexer": "ipython3",
   "version": "3.11.3"
  }
 },
 "nbformat": 4,
 "nbformat_minor": 5
}
