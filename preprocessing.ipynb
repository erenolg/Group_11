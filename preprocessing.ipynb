{
 "cells": [
  {
   "cell_type": "code",
   "execution_count": 1,
   "id": "1ef9eaf3",
   "metadata": {},
   "outputs": [],
   "source": [
    "import pandas as pd\n",
    "import numpy as np\n",
    "np.random.seed(11)\n",
    "import nltk\n",
    "from nltk.corpus import stopwords\n",
    "from nltk.tokenize import word_tokenize\n",
    "from nltk.stem import PorterStemmer, WordNetLemmatizer\n",
    "\"\"\"\n",
    "nltk.download(\"stopwords\")\n",
    "nltk.download(\"punkt\")\n",
    "nltk.download(\"wordnet\")\n",
    "\"\"\"\n",
    "import torch\n",
    "import torch.nn as nn\n",
    "import torch.optim as optim\n",
    "from torch.utils.data import DataLoader, TensorDataset"
   ]
  },
  {
   "cell_type": "markdown",
   "id": "bf5b378d-b237-4333-9cf3-5a3b7ff63827",
   "metadata": {},
   "source": [
    "## Clean and Merge Datasets (Eren)"
   ]
  },
  {
   "cell_type": "code",
   "execution_count": 2,
   "id": "11abe064",
   "metadata": {},
   "outputs": [],
   "source": [
    "# Enter data paths for raw_text version and parsed_text version\n",
    "data_raw = \"../data/reviews_raw.json\"\n",
    "data_parsed = \"../data/reviews_parsed.json\"\n",
    "\n",
    "data_with_raw = pd.read_json(data_raw, lines=True)\n",
    "data_with_parsed = pd.read_json(data_parsed, lines=True)"
   ]
  },
  {
   "cell_type": "code",
   "execution_count": 3,
   "id": "75bc57f8",
   "metadata": {},
   "outputs": [],
   "source": [
    "new_df = pd.merge(data_with_parsed, data_with_raw, on=[\"review_id\"])\n"
   ]
  },
  {
   "cell_type": "code",
   "execution_count": 4,
   "id": "9048117a",
   "metadata": {},
   "outputs": [],
   "source": [
    "new_df = new_df.rename(columns={\"rating_x\": \"rating\", \"user_id_x\": \"user_id\", \"rating_x\": \"rating\",\n",
    "                       \"book_id_x\": \"book_id\",})\n",
    "selected_cols = [\"user_id\", \"book_id\", \"review_sentences\", \"rating\", \n",
    "                 \"timestamp\", \"n_votes\", \"n_comments\", \"has_spoiler\"]\n",
    "new_df = new_df[selected_cols]"
   ]
  },
  {
   "cell_type": "code",
   "execution_count": 5,
   "id": "8fd8e0af",
   "metadata": {},
   "outputs": [
    {
     "data": {
      "text/html": [
       "<div>\n",
       "<style scoped>\n",
       "    .dataframe tbody tr th:only-of-type {\n",
       "        vertical-align: middle;\n",
       "    }\n",
       "\n",
       "    .dataframe tbody tr th {\n",
       "        vertical-align: top;\n",
       "    }\n",
       "\n",
       "    .dataframe thead th {\n",
       "        text-align: right;\n",
       "    }\n",
       "</style>\n",
       "<table border=\"1\" class=\"dataframe\">\n",
       "  <thead>\n",
       "    <tr style=\"text-align: right;\">\n",
       "      <th></th>\n",
       "      <th>user_id</th>\n",
       "      <th>book_id</th>\n",
       "      <th>review_sentences</th>\n",
       "      <th>rating</th>\n",
       "      <th>timestamp</th>\n",
       "      <th>n_votes</th>\n",
       "      <th>n_comments</th>\n",
       "      <th>has_spoiler</th>\n",
       "    </tr>\n",
       "  </thead>\n",
       "  <tbody>\n",
       "    <tr>\n",
       "      <th>0</th>\n",
       "      <td>8842281e1d1347389f2ab93d60773d4d</td>\n",
       "      <td>18245960</td>\n",
       "      <td>[[0, This is a special book.], [0, It started ...</td>\n",
       "      <td>5</td>\n",
       "      <td>2017-08-30</td>\n",
       "      <td>28</td>\n",
       "      <td>1</td>\n",
       "      <td>True</td>\n",
       "    </tr>\n",
       "    <tr>\n",
       "      <th>1</th>\n",
       "      <td>8842281e1d1347389f2ab93d60773d4d</td>\n",
       "      <td>16981</td>\n",
       "      <td>[[0, Recommended by Don Katz.], [0, Avail for ...</td>\n",
       "      <td>3</td>\n",
       "      <td>2017-03-22</td>\n",
       "      <td>1</td>\n",
       "      <td>0</td>\n",
       "      <td>False</td>\n",
       "    </tr>\n",
       "    <tr>\n",
       "      <th>2</th>\n",
       "      <td>8842281e1d1347389f2ab93d60773d4d</td>\n",
       "      <td>28684704</td>\n",
       "      <td>[[0, A fun, fast paced science fiction thrille...</td>\n",
       "      <td>3</td>\n",
       "      <td>2017-03-20</td>\n",
       "      <td>22</td>\n",
       "      <td>0</td>\n",
       "      <td>True</td>\n",
       "    </tr>\n",
       "    <tr>\n",
       "      <th>3</th>\n",
       "      <td>8842281e1d1347389f2ab93d60773d4d</td>\n",
       "      <td>27161156</td>\n",
       "      <td>[[0, Recommended reading to understand what is...</td>\n",
       "      <td>0</td>\n",
       "      <td>2016-11-09</td>\n",
       "      <td>5</td>\n",
       "      <td>1</td>\n",
       "      <td>False</td>\n",
       "    </tr>\n",
       "    <tr>\n",
       "      <th>4</th>\n",
       "      <td>8842281e1d1347389f2ab93d60773d4d</td>\n",
       "      <td>25884323</td>\n",
       "      <td>[[0, I really enjoyed this book, and there is ...</td>\n",
       "      <td>4</td>\n",
       "      <td>2016-04-25</td>\n",
       "      <td>9</td>\n",
       "      <td>1</td>\n",
       "      <td>True</td>\n",
       "    </tr>\n",
       "  </tbody>\n",
       "</table>\n",
       "</div>"
      ],
      "text/plain": [
       "                            user_id   book_id  \\\n",
       "0  8842281e1d1347389f2ab93d60773d4d  18245960   \n",
       "1  8842281e1d1347389f2ab93d60773d4d     16981   \n",
       "2  8842281e1d1347389f2ab93d60773d4d  28684704   \n",
       "3  8842281e1d1347389f2ab93d60773d4d  27161156   \n",
       "4  8842281e1d1347389f2ab93d60773d4d  25884323   \n",
       "\n",
       "                                    review_sentences  rating  timestamp  \\\n",
       "0  [[0, This is a special book.], [0, It started ...       5 2017-08-30   \n",
       "1  [[0, Recommended by Don Katz.], [0, Avail for ...       3 2017-03-22   \n",
       "2  [[0, A fun, fast paced science fiction thrille...       3 2017-03-20   \n",
       "3  [[0, Recommended reading to understand what is...       0 2016-11-09   \n",
       "4  [[0, I really enjoyed this book, and there is ...       4 2016-04-25   \n",
       "\n",
       "   n_votes  n_comments  has_spoiler  \n",
       "0       28           1         True  \n",
       "1        1           0        False  \n",
       "2       22           0         True  \n",
       "3        5           1        False  \n",
       "4        9           1         True  "
      ]
     },
     "execution_count": 5,
     "metadata": {},
     "output_type": "execute_result"
    }
   ],
   "source": [
    "new_df.head()"
   ]
  },
  {
   "cell_type": "code",
   "execution_count": 6,
   "id": "b42dc85a",
   "metadata": {
    "scrolled": true
   },
   "outputs": [
    {
     "name": "stdout",
     "output_type": "stream",
     "text": [
      "number of unique books at the beginning: 25475\n",
      "number of unique books at the end: 11339\n",
      "Shape at the end: (604686, 8)\n"
     ]
    }
   ],
   "source": [
    "# Dataset reduction\n",
    "\n",
    "print(f\"number of unique books at the beginning: {new_df.book_id.nunique()}\")\n",
    "\n",
    "select_number = 15000\n",
    "random_books = np.random.choice(new_df.book_id.unique().tolist(), size=select_number)\n",
    "reduced_df = new_df[new_df.book_id.isin(random_books)]\n",
    "\n",
    "print(f\"number of unique books at the end: {reduced_df.book_id.nunique()}\")\n",
    "\n",
    "print(f\"Shape at the end: {reduced_df.shape}\")"
   ]
  },
  {
   "cell_type": "code",
   "execution_count": 7,
   "id": "5a5dad21",
   "metadata": {
    "scrolled": true
   },
   "outputs": [
    {
     "name": "stdout",
     "output_type": "stream",
     "text": [
      "ratio of non-spoiler labels: 0.9344783904373509%\n"
     ]
    }
   ],
   "source": [
    "print(f\"ratio of non-spoiler labels: {reduced_df.has_spoiler.value_counts()[0] / len(reduced_df)}%\")"
   ]
  },
  {
   "cell_type": "code",
   "execution_count": 8,
   "id": "7b4e15ec",
   "metadata": {},
   "outputs": [],
   "source": [
    "reduced_df.to_json(\"../data/reduced.json\")"
   ]
  },
  {
   "cell_type": "code",
   "execution_count": 9,
   "id": "2f177860",
   "metadata": {},
   "outputs": [],
   "source": [
    "df = pd.read_json(\"../data/reduced.json\")"
   ]
  },
  {
   "cell_type": "markdown",
   "id": "1fad2830-f4c5-4311-9abd-307316ff0848",
   "metadata": {},
   "source": [
    "# dikkat = indexler eski datadaki gibi kalmış yani 1 2 5 7 8 diye gidiyor. todo: düzelt bunu"
   ]
  },
  {
   "cell_type": "code",
   "execution_count": 10,
   "id": "a345a567-923b-4605-8b44-1c42aebe9f4a",
   "metadata": {},
   "outputs": [],
   "source": [
    "\n",
    "#df = reduced_df"
   ]
  },
  {
   "cell_type": "code",
   "execution_count": 11,
   "id": "cf544234",
   "metadata": {},
   "outputs": [
    {
     "data": {
      "text/html": [
       "<div>\n",
       "<style scoped>\n",
       "    .dataframe tbody tr th:only-of-type {\n",
       "        vertical-align: middle;\n",
       "    }\n",
       "\n",
       "    .dataframe tbody tr th {\n",
       "        vertical-align: top;\n",
       "    }\n",
       "\n",
       "    .dataframe thead th {\n",
       "        text-align: right;\n",
       "    }\n",
       "</style>\n",
       "<table border=\"1\" class=\"dataframe\">\n",
       "  <thead>\n",
       "    <tr style=\"text-align: right;\">\n",
       "      <th></th>\n",
       "      <th>user_id</th>\n",
       "      <th>book_id</th>\n",
       "      <th>review_sentences</th>\n",
       "      <th>rating</th>\n",
       "      <th>timestamp</th>\n",
       "      <th>n_votes</th>\n",
       "      <th>n_comments</th>\n",
       "      <th>has_spoiler</th>\n",
       "    </tr>\n",
       "  </thead>\n",
       "  <tbody>\n",
       "    <tr>\n",
       "      <th>1</th>\n",
       "      <td>8842281e1d1347389f2ab93d60773d4d</td>\n",
       "      <td>16981</td>\n",
       "      <td>[[0, Recommended by Don Katz.], [0, Avail for ...</td>\n",
       "      <td>3</td>\n",
       "      <td>2017-03-22</td>\n",
       "      <td>1</td>\n",
       "      <td>0</td>\n",
       "      <td>False</td>\n",
       "    </tr>\n",
       "    <tr>\n",
       "      <th>2</th>\n",
       "      <td>8842281e1d1347389f2ab93d60773d4d</td>\n",
       "      <td>28684704</td>\n",
       "      <td>[[0, A fun, fast paced science fiction thrille...</td>\n",
       "      <td>3</td>\n",
       "      <td>2017-03-20</td>\n",
       "      <td>22</td>\n",
       "      <td>0</td>\n",
       "      <td>True</td>\n",
       "    </tr>\n",
       "    <tr>\n",
       "      <th>5</th>\n",
       "      <td>8842281e1d1347389f2ab93d60773d4d</td>\n",
       "      <td>19398490</td>\n",
       "      <td>[[0, A beautiful story.], [0, It is rare to en...</td>\n",
       "      <td>4</td>\n",
       "      <td>2016-09-20</td>\n",
       "      <td>35</td>\n",
       "      <td>5</td>\n",
       "      <td>False</td>\n",
       "    </tr>\n",
       "    <tr>\n",
       "      <th>7</th>\n",
       "      <td>8842281e1d1347389f2ab93d60773d4d</td>\n",
       "      <td>24189224</td>\n",
       "      <td>[[0, Numerous people in publishing have told m...</td>\n",
       "      <td>0</td>\n",
       "      <td>2015-05-29</td>\n",
       "      <td>11</td>\n",
       "      <td>5</td>\n",
       "      <td>False</td>\n",
       "    </tr>\n",
       "    <tr>\n",
       "      <th>8</th>\n",
       "      <td>8842281e1d1347389f2ab93d60773d4d</td>\n",
       "      <td>22551730</td>\n",
       "      <td>[[0, Another hard to put down nonfiction book ...</td>\n",
       "      <td>4</td>\n",
       "      <td>2016-12-14</td>\n",
       "      <td>20</td>\n",
       "      <td>6</td>\n",
       "      <td>False</td>\n",
       "    </tr>\n",
       "  </tbody>\n",
       "</table>\n",
       "</div>"
      ],
      "text/plain": [
       "                            user_id   book_id  \\\n",
       "1  8842281e1d1347389f2ab93d60773d4d     16981   \n",
       "2  8842281e1d1347389f2ab93d60773d4d  28684704   \n",
       "5  8842281e1d1347389f2ab93d60773d4d  19398490   \n",
       "7  8842281e1d1347389f2ab93d60773d4d  24189224   \n",
       "8  8842281e1d1347389f2ab93d60773d4d  22551730   \n",
       "\n",
       "                                    review_sentences  rating  timestamp  \\\n",
       "1  [[0, Recommended by Don Katz.], [0, Avail for ...       3 2017-03-22   \n",
       "2  [[0, A fun, fast paced science fiction thrille...       3 2017-03-20   \n",
       "5  [[0, A beautiful story.], [0, It is rare to en...       4 2016-09-20   \n",
       "7  [[0, Numerous people in publishing have told m...       0 2015-05-29   \n",
       "8  [[0, Another hard to put down nonfiction book ...       4 2016-12-14   \n",
       "\n",
       "   n_votes  n_comments  has_spoiler  \n",
       "1        1           0        False  \n",
       "2       22           0         True  \n",
       "5       35           5        False  \n",
       "7       11           5        False  \n",
       "8       20           6        False  "
      ]
     },
     "execution_count": 11,
     "metadata": {},
     "output_type": "execute_result"
    }
   ],
   "source": [
    "df.head()"
   ]
  },
  {
   "cell_type": "code",
   "execution_count": 12,
   "id": "3c1a9caf",
   "metadata": {
    "scrolled": true
   },
   "outputs": [
    {
     "data": {
      "text/plain": [
       "(604686, 8)"
      ]
     },
     "execution_count": 12,
     "metadata": {},
     "output_type": "execute_result"
    }
   ],
   "source": [
    "df.shape"
   ]
  },
  {
   "cell_type": "markdown",
   "id": "8a63fefc-dbdf-4ee8-9e02-32947ae67c3c",
   "metadata": {},
   "source": [
    "## Preprocess review_text (Melisa)"
   ]
  },
  {
   "cell_type": "code",
   "execution_count": 13,
   "id": "cb444d98-d535-4d1d-8551-935973563ffd",
   "metadata": {},
   "outputs": [],
   "source": [
    "stop_words = set(stopwords.words(\"english\"))\n",
    "lemmatizer = WordNetLemmatizer()\n",
    "\n",
    "def process_review_text(val):\n",
    "    clean_test = []\n",
    "    for sentence in val:\n",
    "        # Tokenize the sentence\n",
    "        words = word_tokenize(sentence[1])\n",
    "        # Lowercase and remove non-alphanumeric characters\n",
    "        words = [word.lower() for word in words if word.isalnum()]\n",
    "        # Remove stopwords \n",
    "        words = [word for word in words if word not in stop_words]\n",
    "        # Append the cleaned sentence to the cleaned dataset\n",
    "        \n",
    "        #LEMMATIZATION ÇOK BİR ŞEY DEĞİŞTİRMİYOR, YETERLİ Mİ YOKSA STEMMİNG Mİ YAPMALIYIZ? İLERDE DURUMA GÖRE BURAYA GERİ DÖN\n",
    "        normalized_words = [lemmatizer.lemmatize(word) for word in words]\n",
    "        clean_test.append(normalized_words)\n",
    "        \n",
    "    \n",
    "    # Build a vocabulary\n",
    "    vocab = set(word for sentence in clean_test for word in sentence)\n",
    "    word_to_index = {word: index for index, word in enumerate(vocab)}\n",
    "\n",
    "    # NUMERICAL REPRESENTATION\n",
    "    numerical_data = [[word_to_index[word] for word in sentence] for sentence in clean_test]\n",
    "    \n",
    "    \n",
    "    # Padding sequences / BAŞLANGIÇ OLARAK 13 SEÇTİM AMA CÜMLE UZUNLUĞU MEANİ 8, OLABİLDİĞİNCE ACCURATE OLSUN DİYE. EĞER HIZDAN DOLAYI\n",
    "    # SIKINTI YAŞAMAYA BAŞLARSAK BURAYI 8-13 ARASI GİTTİKÇE AŞAĞI ÇEKEBİLİRİZ.\n",
    "    max_sequence_length = 13\n",
    "    padded_data = [seq[:max_sequence_length] + [0] * max(0, max_sequence_length - len(seq)) for seq in numerical_data]\n",
    "    \n",
    "    \n",
    "    padded_data = torch.tensor(padded_data)\n",
    "    #print(padded_data)\n",
    "\n",
    "    #SPOILER LABELS\n",
    "    label_lst = [i[0] for i in val]\n",
    "    labels = torch.tensor(label_lst)\n",
    "\n",
    "    dataset = TensorDataset(padded_data, labels)\n",
    "        \n",
    "    return dataset"
   ]
  },
  {
   "cell_type": "code",
   "execution_count": 14,
   "id": "d95a7cb2-c856-4163-8cb7-4a37e0104bab",
   "metadata": {},
   "outputs": [
    {
     "name": "stderr",
     "output_type": "stream",
     "text": [
      "<ipython-input-14-190aa2118ed0>:7: SettingWithCopyWarning: \n",
      "A value is trying to be set on a copy of a slice from a DataFrame.\n",
      "Try using .loc[row_indexer,col_indexer] = value instead\n",
      "\n",
      "See the caveats in the documentation: https://pandas.pydata.org/pandas-docs/stable/user_guide/indexing.html#returning-a-view-versus-a-copy\n",
      "  smaller_df[\"test\"] = smaller_df[\"review_sentences\"].apply(process_review_text)\n"
     ]
    }
   ],
   "source": [
    "\n",
    "# WORKING ON A SMALL SUBSET FOR NOW JUST TO MAKE SURE EVERYTHING WORKS\n",
    "smaller_df = df.iloc[:20000]\n",
    "#print(smaller_df.shape)\n",
    "#print(df[\"review_sentences\"])\n",
    "\n",
    "\n",
    "smaller_df[\"test\"] = smaller_df[\"review_sentences\"].apply(process_review_text)\n",
    "#print(smaller_df[\"test\"].describe)\n"
   ]
  },
  {
   "cell_type": "code",
   "execution_count": 15,
   "id": "fd643f25-8a79-46a1-b529-2714e80aa123",
   "metadata": {},
   "outputs": [
    {
     "name": "stdout",
     "output_type": "stream",
     "text": [
      "<torch.utils.data.dataset.TensorDataset object at 0x000001BDE6783340>\n"
     ]
    }
   ],
   "source": [
    "print(smaller_df[\"test\"][1])"
   ]
  },
  {
   "cell_type": "markdown",
   "id": "41300946-f440-4d9d-99af-70ffbb98a616",
   "metadata": {},
   "source": [
    "## Basic Data Analysis (Melisa)"
   ]
  },
  {
   "cell_type": "code",
   "execution_count": null,
   "id": "de6fd3ea-950f-4266-beb3-2222c8531a54",
   "metadata": {},
   "outputs": [],
   "source": []
  },
  {
   "cell_type": "code",
   "execution_count": null,
   "id": "c9963685-acc9-49b0-8283-5ca789094cfe",
   "metadata": {},
   "outputs": [],
   "source": []
  },
  {
   "cell_type": "markdown",
   "id": "35739af6-3653-429f-8a16-8c478fead1ae",
   "metadata": {},
   "source": [
    "## Normalize and Feature Scale the Data (Eren)"
   ]
  },
  {
   "cell_type": "code",
   "execution_count": null,
   "id": "ba465e4a-de67-4933-aee8-7ea99ee954a1",
   "metadata": {},
   "outputs": [],
   "source": []
  }
 ],
 "metadata": {
  "kernelspec": {
   "display_name": "Python 3",
   "language": "python",
   "name": "python3"
  },
  "language_info": {
   "codemirror_mode": {
    "name": "ipython",
    "version": 3
   },
   "file_extension": ".py",
   "mimetype": "text/x-python",
   "name": "python",
   "nbconvert_exporter": "python",
   "pygments_lexer": "ipython3",
   "version": "3.8.8"
  }
 },
 "nbformat": 4,
 "nbformat_minor": 5
}
